{
 "cells": [
  {
   "cell_type": "markdown",
   "id": "9a6ec32a-d599-4b6e-a4d5-c4fe4b9448b6",
   "metadata": {},
   "source": [
    "# Описательная статистика"
   ]
  },
  {
   "cell_type": "code",
   "execution_count": 34,
   "id": "ea7c81c0-1872-45a8-9314-a3aaefa90567",
   "metadata": {
    "tags": []
   },
   "outputs": [],
   "source": [
    "import numpy as np\n",
    "import matplotlib.pyplot as plt\n",
    "import pandas as pd\n",
    "\n",
    "from scipy import stats\n",
    "\n",
    "import warnings\n",
    "warnings.filterwarnings(\"ignore\") "
   ]
  },
  {
   "cell_type": "markdown",
   "id": "5d944fc8-c632-4076-b3a9-b8753907f988",
   "metadata": {},
   "source": [
    "Основные статистики для описания данных:\n",
    "\n",
    " - средняя = `np.mean(sample)`\n",
    " - медиана = `np.median(sample)`\n",
    " - мода = `pd.Series(sample).mode()[0]`\n",
    " - дисперсия = `np.var(sample)`\n",
    " - стандартное отклонение = `np.std(sample)`"
   ]
  },
  {
   "cell_type": "code",
   "execution_count": 41,
   "id": "4ce77663-68bf-49f7-bb38-31e687effe07",
   "metadata": {
    "tags": []
   },
   "outputs": [
    {
     "data": {
      "text/plain": [
       "0    5.847665\n",
       "1    5.686244\n",
       "2    6.776234\n",
       "3    4.548563\n",
       "4    4.194267\n",
       "dtype: float64"
      ]
     },
     "execution_count": 41,
     "metadata": {},
     "output_type": "execute_result"
    }
   ],
   "source": [
    "data = pd.Series(np.concatenate([np.random.normal(5, 1, 200), np.random.normal(15, 1, 5)]))\n",
    "\n",
    "data.head()"
   ]
  },
  {
   "cell_type": "code",
   "execution_count": 43,
   "id": "a3dfac4c-1fc6-4f03-b520-6dd3b23b7f7e",
   "metadata": {
    "tags": []
   },
   "outputs": [
    {
     "data": {
      "text/plain": [
       "5.3931039284712226"
      ]
     },
     "execution_count": 43,
     "metadata": {},
     "output_type": "execute_result"
    }
   ],
   "source": [
    "data.mean()"
   ]
  },
  {
   "cell_type": "code",
   "execution_count": 44,
   "id": "07b42b5a-c735-449c-8043-054ca3a3492a",
   "metadata": {
    "tags": []
   },
   "outputs": [
    {
     "data": {
      "text/plain": [
       "5.245385298975066"
      ]
     },
     "execution_count": 44,
     "metadata": {},
     "output_type": "execute_result"
    }
   ],
   "source": [
    "data.median()"
   ]
  },
  {
   "cell_type": "code",
   "execution_count": 48,
   "id": "6c63ea7b-8bfc-4d34-a7ab-44044bed9bd9",
   "metadata": {
    "tags": []
   },
   "outputs": [
    {
     "data": {
      "text/plain": [
       "2.4610890170396877"
      ]
     },
     "execution_count": 48,
     "metadata": {},
     "output_type": "execute_result"
    }
   ],
   "source": [
    "data.mode()[0]"
   ]
  },
  {
   "cell_type": "code",
   "execution_count": 51,
   "id": "3a7dc15b-aeef-4d3c-9ce9-e6f382169d24",
   "metadata": {
    "tags": []
   },
   "outputs": [
    {
     "data": {
      "text/plain": [
       "3.2572491214380457"
      ]
     },
     "execution_count": 51,
     "metadata": {},
     "output_type": "execute_result"
    }
   ],
   "source": [
    "data.var()"
   ]
  },
  {
   "cell_type": "code",
   "execution_count": 52,
   "id": "2d221323-2d97-4384-8560-f82c17021763",
   "metadata": {
    "tags": []
   },
   "outputs": [
    {
     "data": {
      "text/plain": [
       "1.8047850623933162"
      ]
     },
     "execution_count": 52,
     "metadata": {},
     "output_type": "execute_result"
    }
   ],
   "source": [
    "data.std()"
   ]
  },
  {
   "cell_type": "code",
   "execution_count": 53,
   "id": "35b43280-ca1a-4ef3-a3ce-7f871bc68731",
   "metadata": {
    "tags": []
   },
   "outputs": [
    {
     "data": {
      "text/plain": [
       "count    205.000000\n",
       "mean       5.393104\n",
       "std        1.804785\n",
       "min        2.461089\n",
       "25%        4.466195\n",
       "50%        5.245385\n",
       "75%        5.808306\n",
       "max       15.665419\n",
       "dtype: float64"
      ]
     },
     "execution_count": 53,
     "metadata": {},
     "output_type": "execute_result"
    }
   ],
   "source": [
    "data.describe()"
   ]
  },
  {
   "cell_type": "code",
   "execution_count": 54,
   "id": "95f7724c-bdab-4e4c-9399-eb88f063f051",
   "metadata": {
    "tags": []
   },
   "outputs": [
    {
     "data": {
      "text/html": [
       "<div>\n",
       "<style scoped>\n",
       "    .dataframe tbody tr th:only-of-type {\n",
       "        vertical-align: middle;\n",
       "    }\n",
       "\n",
       "    .dataframe tbody tr th {\n",
       "        vertical-align: top;\n",
       "    }\n",
       "\n",
       "    .dataframe thead th {\n",
       "        text-align: right;\n",
       "    }\n",
       "</style>\n",
       "<table border=\"1\" class=\"dataframe\">\n",
       "  <thead>\n",
       "    <tr style=\"text-align: right;\">\n",
       "      <th></th>\n",
       "      <th>count</th>\n",
       "      <th>mean</th>\n",
       "      <th>std</th>\n",
       "      <th>min</th>\n",
       "      <th>25%</th>\n",
       "      <th>50%</th>\n",
       "      <th>75%</th>\n",
       "      <th>max</th>\n",
       "    </tr>\n",
       "  </thead>\n",
       "  <tbody>\n",
       "    <tr>\n",
       "      <th>x</th>\n",
       "      <td>205.0</td>\n",
       "      <td>5.393104</td>\n",
       "      <td>1.804785</td>\n",
       "      <td>2.461089</td>\n",
       "      <td>4.466195</td>\n",
       "      <td>5.245385</td>\n",
       "      <td>5.808306</td>\n",
       "      <td>15.665419</td>\n",
       "    </tr>\n",
       "    <tr>\n",
       "      <th>y</th>\n",
       "      <td>205.0</td>\n",
       "      <td>5.331591</td>\n",
       "      <td>1.801771</td>\n",
       "      <td>2.261458</td>\n",
       "      <td>4.480852</td>\n",
       "      <td>5.126516</td>\n",
       "      <td>5.785401</td>\n",
       "      <td>16.041414</td>\n",
       "    </tr>\n",
       "  </tbody>\n",
       "</table>\n",
       "</div>"
      ],
      "text/plain": [
       "   count      mean       std       min       25%       50%       75%  \\\n",
       "x  205.0  5.393104  1.804785  2.461089  4.466195  5.245385  5.808306   \n",
       "y  205.0  5.331591  1.801771  2.261458  4.480852  5.126516  5.785401   \n",
       "\n",
       "         max  \n",
       "x  15.665419  \n",
       "y  16.041414  "
      ]
     },
     "execution_count": 54,
     "metadata": {},
     "output_type": "execute_result"
    }
   ],
   "source": [
    "df = pd.DataFrame({\n",
    "    'x': data,\n",
    "    'y': pd.Series(np.concatenate([np.random.normal(5, 1, 200), np.random.normal(15, 1, 5)]))\n",
    "})\n",
    "\n",
    "df.describe().T"
   ]
  },
  {
   "cell_type": "code",
   "execution_count": 55,
   "id": "ed6d37ee-e5f6-4007-a89c-5adcb487f6b0",
   "metadata": {
    "tags": []
   },
   "outputs": [
    {
     "name": "stdout",
     "output_type": "stream",
     "text": [
      "<class 'pandas.core.frame.DataFrame'>\n",
      "RangeIndex: 205 entries, 0 to 204\n",
      "Data columns (total 2 columns):\n",
      " #   Column  Non-Null Count  Dtype  \n",
      "---  ------  --------------  -----  \n",
      " 0   x       205 non-null    float64\n",
      " 1   y       205 non-null    float64\n",
      "dtypes: float64(2)\n",
      "memory usage: 3.3 KB\n"
     ]
    }
   ],
   "source": [
    "df.info()"
   ]
  },
  {
   "cell_type": "code",
   "execution_count": 56,
   "id": "b0d4fe95-15dd-4414-b89e-d465e757ee79",
   "metadata": {
    "tags": []
   },
   "outputs": [
    {
     "data": {
      "image/png": "[encoded data removed]",
      "text/plain": [
       "<Figure size 1000x500 with 2 Axes>"
      ]
     },
     "metadata": {},
     "output_type": "display_data"
    }
   ],
   "source": [
    "df.hist(bins=50, figsize=(10,5));"
   ]
  },
  {
   "cell_type": "markdown",
   "id": "9fff4cc0-9df6-4b4a-82e2-1ba107765538",
   "metadata": {},
   "source": [
    "## Оценка выбросов"
   ]
  },
  {
   "cell_type": "markdown",
   "id": "1b6317cd-ab80-4e32-be3a-4385e03544d5",
   "metadata": {},
   "source": [
    "### Диаграмма размаха (aka Ящик с усами)"
   ]
  },
  {
   "cell_type": "markdown",
   "id": "8b71e243-09f7-41e4-9e86-084d184035e1",
   "metadata": {},
   "source": [
    "`Boxplot` позволяет быстро оценить основные параметры распределения, такие как *медиана, квартили, выбросы и дисперсия*. Диаграмма размаха состоит из прямоугольника, который представляет интерквартильный размах, линии, которые выходят из него и называются \"усами\" и точек за пределами границы усов, которые могут быть выбросами. Диаграмма размаха может использоваться для сравнения нескольких наборов данных и для идентификации выбросов в данных."
   ]
  },
  {
   "cell_type": "code",
   "execution_count": 57,
   "id": "a2168bed-a293-4912-9844-5bd21e8044d4",
   "metadata": {
    "tags": []
   },
   "outputs": [
    {
     "data": {
      "image/png": "[encoded data removed]",
      "text/plain": [
       "<Figure size 1000x600 with 1 Axes>"
      ]
     },
     "metadata": {},
     "output_type": "display_data"
    }
   ],
   "source": [
    "# вычисляем статистики для построения boxplot\n",
    "q1, q3 = np.percentile(data, [25, 75])\n",
    "iqr = q3 - q1\n",
    "lower_bound = q1 - 1.5 * iqr\n",
    "upper_bound = q3 + 1.5 * iqr\n",
    "outliers = data[(data < lower_bound) | (data > upper_bound)]\n",
    "\n",
    "# создаем диаграмму размаха\n",
    "fig, ax = plt.subplots(figsize=(10, 6))\n",
    "ax.boxplot(data)\n",
    "ax.set_xticklabels(['Data'], fontsize=12)\n",
    "ax.tick_params(labelsize=12)\n",
    "\n",
    "# добавляем подписи\n",
    "ax.annotate('Q1: {}'.format(round(q1, 2)), xy=(1, q1), xytext=(1.1, q1), fontsize=12)\n",
    "ax.annotate('Q3: {}'.format(round(q3, 2)), xy=(1, q3), xytext=(1.1, q3), fontsize=12)\n",
    "ax.annotate('IQR: {}'.format(round(iqr, 2)), xy=(1, (q1 + q3)/2), xytext=(1.3, (q1 + q3)/2), fontsize=12)\n",
    "ax.annotate('Нижняя граница: {}'.format(round(lower_bound, 2)), xy=(1, lower_bound), xytext=(1.1, lower_bound), fontsize=12)\n",
    "ax.annotate('Верхняя граница: {}'.format(round(upper_bound, 2)), xy=(1, upper_bound), xytext=(1.1, upper_bound), fontsize=12)\n",
    "\n",
    "plt.show()"
   ]
  },
  {
   "cell_type": "markdown",
   "id": "9da2e2a9-fa15-4c3e-97bc-70132ac32059",
   "metadata": {},
   "source": [
    "# Проверка гипотез с помощью python."
   ]
  },
  {
   "cell_type": "markdown",
   "id": "c891f3e8-f975-41c3-b619-3607f54d1395",
   "metadata": {},
   "source": [
    "## **Проверка гипотез**\n",
    "\n",
    "- Двусторонняя гипотеза\n",
    "- Односторонняя гипотеза\n",
    "\n",
    "### Двусторонняя гипотеза:\n",
    "- **H0 — Нулевая гипотеза.**\n",
    "\n",
    "*«Среднее время выполнения задачи на компьютере A не отличается от среднего времени выполнения на компьютере B».*\n",
    "\n",
    "- **H1 — Альтернативная гипотеза.**\n",
    "\n",
    "*«Среднее время выполнения задачи на компьютере A отличается от среднего времени выполнения на компьютере B».*\n",
    "\n",
    "**Время выполнения задачи на компьютере А может быть как меньше, так и больше, чем на компьютере В**\n",
    "\n",
    "### Односторонняя гипотеза\n",
    "\n",
    "- **H0 — Нулевая гипотеза.**\n",
    "\n",
    "*«Среднее время выполнения задачи на компьютере A равно среднему времени выполнения на компьютере B».*\n",
    "\n",
    "- **H1 — Альтернативная гипотеза.**\n",
    "\n",
    "*«Среднее время выполнения задачи на компьютере A меньше от среднего времени выполнения на компьютере B».*\n",
    "\n",
    "**Время выполнение задачи на компьютере может сместиться лишь в одну сторону.**\n",
    "\n",
    "После того, как гипотезы были сформулированы, можно приступить к проверке этих гипотез."
   ]
  },
  {
   "cell_type": "markdown",
   "id": "0cae684f-b77b-455c-bd35-24a2cf8ce3a6",
   "metadata": {},
   "source": [
    "## P-value\n",
    "\n",
    "**P-value** - то вероятность получения таких же или более экстремальных результатов в эксперименте, при условии, что нулевая гипотеза (гипотеза о равенстве эффекта в обеих группах) верна. Иными словами, это вероятность получить наблюдаемый результат только случайно. Чем меньше `p-value`, тем больше оснований отклонить нулевую гипотезу и принять альтернативную, что различия между группами статистически значимы. Обычно, если `p-value` меньше `0,05` (или `5%`), то различия считаются статистически значимыми."
   ]
  },
  {
   "cell_type": "markdown",
   "id": "1100211b-5f3a-4738-8b7f-904bd799b33b",
   "metadata": {},
   "source": [
    "## Рассмотрим пример"
   ]
  },
  {
   "cell_type": "markdown",
   "id": "a041d927-d71c-43b5-9dc8-8bcaf3137e36",
   "metadata": {},
   "source": [
    "Метод `scipy.stats.ttest_1samp()` возвращает два числа: статистику разности и p-value.\n",
    "\n",
    "Метод спользуется для определения статистической значимости различий между средним значением выборки и известным или гипотетическим значением среднего в генеральной совокупности. Он выполняет тест t-критерия Стьюдента и возвращает t-статистику и двустороннее p-значение."
   ]
  },
  {
   "cell_type": "markdown",
   "id": "345ae550-7b58-4a9a-b191-5d04fdbc0895",
   "metadata": {},
   "source": [
    "### Двусторонний тест"
   ]
  },
  {
   "cell_type": "code",
   "execution_count": 60,
   "id": "d7822544-851f-483b-9d46-462ac0de1bee",
   "metadata": {
    "tags": []
   },
   "outputs": [
    {
     "data": {
      "text/plain": [
       "Ttest_1sampResult(statistic=1.6308400722038674, pvalue=0.10450570418656002)"
      ]
     },
     "execution_count": 60,
     "metadata": {},
     "output_type": "execute_result"
    }
   ],
   "source": [
    "rvs = stats.uniform.rvs(size=200, random_state=42)\n",
    "stats.ttest_1samp(rvs, popmean=0.45)"
   ]
  },
  {
   "cell_type": "code",
   "execution_count": 59,
   "id": "32569380-7734-404e-8e8b-aefd282a601d",
   "metadata": {
    "tags": []
   },
   "outputs": [
    {
     "name": "stdout",
     "output_type": "stream",
     "text": [
      "P-value:0.44398. Подтверждается нулевая гипотеза\n"
     ]
    }
   ],
   "source": [
    "alpha = .05\n",
    "\n",
    "_, pvalue = stats.ttest_1samp(rvs, popmean=0.5)\n",
    "\n",
    "if pvalue < alpha:\n",
    "    print(f'P-value:{pvalue:.5f}. Нулевая гипотеза отвергается')\n",
    "else:\n",
    "    print(f'P-value:{pvalue:.5f}. Подтверждается нулевая гипотеза')"
   ]
  },
  {
   "cell_type": "markdown",
   "id": "890c51f4-0d80-411f-bb74-790fb0d7b225",
   "metadata": {},
   "source": [
    "Это означает, что нет различий между средним значением выборки и `0.5`. Потому подтверждается нулевая гипотеза."
   ]
  },
  {
   "cell_type": "markdown",
   "id": "cbef0599-9bfc-403c-8597-abb8969117b5",
   "metadata": {},
   "source": [
    "### Односторонний тест"
   ]
  },
  {
   "cell_type": "markdown",
   "id": "0fdab478-b2f1-4eaa-9b1f-ca3ff30a1037",
   "metadata": {},
   "source": [
    "А что, если нужно узнать, в какую именно сторону меняется?"
   ]
  },
  {
   "cell_type": "code",
   "execution_count": 61,
   "id": "346d7ac3-b1ac-4798-94e3-6534981a6347",
   "metadata": {
    "tags": []
   },
   "outputs": [
    {
     "name": "stdout",
     "output_type": "stream",
     "text": [
      "P-value:0.00000. Нулевая гипотеза отвергается\n"
     ]
    }
   ],
   "source": [
    "alpha = .05\n",
    "needed_value = 0.6\n",
    "\n",
    "_, pvalue = stats.ttest_1samp(rvs, popmean=needed_value)\n",
    "\n",
    "pvalue /= 2\n",
    "\n",
    "if (pvalue < alpha) and (rvs.mean() < needed_value):\n",
    "    print(f'P-value:{pvalue:.5f}. Нулевая гипотеза отвергается')\n",
    "else:\n",
    "    print(f'P-value:{pvalue:.5f}. Подтверждается нулевая гипотеза')"
   ]
  },
  {
   "cell_type": "code",
   "execution_count": null,
   "metadata": {},
   "outputs": [
    {
     "name": "stdout",
     "output_type": "stream",
     "text": [
      "P-value:0.00000. Нулевая гипотеза отвергается\n"
     ]
    }
   ],
   "source": [
    "alpha = .05\n",
    "needed_value = 0.6\n",
    "\n",
    "_, pvalue = stats.ttest_1samp(rvs, popmean=needed_value)\n",
    "\n",
    "pvalue /= 2\n",
    "\n",
    "if (pvalue < alpha) and (rvs.mean() < needed_value):\n",
    "    print(f'P-value:{pvalue:.5f}. Нулевая гипотеза отвергается')\n",
    "else:\n",
    "    print(f'P-value:{pvalue:.5f}. Подтверждается нулевая гипотеза')"
   ]
  },
  {
   "cell_type": "markdown",
   "id": "cc3875fe-2411-4e7c-985b-7267190eb015",
   "metadata": {},
   "source": [
    "Алгоритм прост - нужно `pvalue` поделить на 2 и сравнить среднее с нужным значением!"
   ]
  },
  {
   "cell_type": "markdown",
   "id": "959d0f98-489e-4d1b-bd89-001f368be04e",
   "metadata": {},
   "source": [
    "## Равенство средних двух совокупностей"
   ]
  },
  {
   "cell_type": "markdown",
   "id": "17342305-6ef2-4b26-b71a-357991746acb",
   "metadata": {},
   "source": [
    "Метод `scipy.stats.ttest_ind()` используется для определения статистической значимости различий между средними значениями двух независимых выборок. Она выполняет двухсторонний тест t-критерия Стьюдента и возвращает t-статистику и двустороннее p-значение.\n",
    "\n",
    "Аргументы функции:\n",
    " - первая выборки значений\n",
    " - вторая выборка значений\n",
    " - `equal_var` - опциональный параметр для указания равенства дисперсий между двумя выборками. По умолчанию, `equal_var=True`."
   ]
  },
  {
   "cell_type": "markdown",
   "id": "7083895a-77b9-4385-9719-ba8c2873ef31",
   "metadata": {},
   "source": [
    "Перед тем, как проводить тест, нужно придерживаться трех правил:\n",
    "\n",
    "1. **Независимость выборок** - данные в двух группах должны быть независимыми друг от друга. Если рассматриваются две выборки после определенного времени - лучше использовать другой тест.\n",
    "2. **Дисперсии данных в каждой группе должны быть примерно равными.** В принципе, если значений больше 30 и выборки по размеру равны - можно пробовать.\n",
    "3. **Распределение данных в каждой группе должно быть нормальным.** Но это условие тоже не препятствие - как говорилось в прошлом правиле, если значений много - они будут распределены вокруг истинного среднего (среднего ген. совокупности)\n",
    "\n",
    "`equal_var`? Указывайте **False** только в том случае, если размеры выборок не равны и вы сомневаетесь, что диспресии равные."
   ]
  },
  {
   "cell_type": "code",
   "execution_count": 16,
   "id": "fc60e340-f8c3-47af-929f-8bebed55ba22",
   "metadata": {
    "tags": []
   },
   "outputs": [
    {
     "name": "stdout",
     "output_type": "stream",
     "text": [
      "P-value:0.00000. Нулевая гипотеза отвергается\n"
     ]
    }
   ],
   "source": [
    "a = np.random.normal(loc=50, scale=20, size=200)\n",
    "b = np.random.normal(loc=100, scale=20, size=200)\n",
    "\n",
    "alpha = .05\n",
    "\n",
    "t_stat, pvalue = stats.ttest_ind(a, b)\n",
    "\n",
    "if pvalue < alpha:\n",
    "    print(f'P-value:{pvalue:.5f}. Нулевая гипотеза отвергается')\n",
    "else:\n",
    "    print(f'P-value:{pvalue:.5f}. Подтверждается нулевая гипотеза')"
   ]
  },
  {
   "cell_type": "markdown",
   "id": "57c4b1af-08ed-48e6-94e9-cfafc1bddf7c",
   "metadata": {},
   "source": [
    "## Гипотеза о равенстве средних двух зависимых совокупностей"
   ]
  },
  {
   "cell_type": "markdown",
   "id": "ac5d374f-2fa2-4827-82c0-fbd95780737e",
   "metadata": {},
   "source": [
    "Метод `scipy.stats.ttest_rel()` - используется для проведения парного двухвыборочного t-теста на основе связанных выборок. Она вычисляет t-статистику и p-value для проверки гипотезы о равенстве средних значений двух связанных выборок. Эта команда принимает на вход два одномерных массива данных, представляющих собой две связанные выборки, и возвращает кортеж, состоящий из t-статистики и соответствующего ей p-value.\n",
    "\n",
    "Таким методом обычно проверяют выборки после какого-либо времени или изменения."
   ]
  },
  {
   "cell_type": "code",
   "execution_count": 17,
   "id": "95d0ac09-6519-436a-94c5-3693aee28ba8",
   "metadata": {
    "tags": []
   },
   "outputs": [
    {
     "name": "stdout",
     "output_type": "stream",
     "text": [
      "P-value:0.00000. Нулевая гипотеза отвергается\n"
     ]
    }
   ],
   "source": [
    "a = np.random.normal(loc=100, scale=20, size=200)\n",
    "b = np.random.normal(loc=50, scale=20, size=200)\n",
    "\n",
    "alpha = .05\n",
    "\n",
    "t_stat, pvalue = stats.ttest_rel(a, b)\n",
    "\n",
    "if pvalue < alpha:\n",
    "    print(f'P-value:{pvalue:.5f}. Нулевая гипотеза отвергается')\n",
    "else:\n",
    "    print(f'P-value:{pvalue:.5f}. Подтверждается нулевая гипотеза')"
   ]
  },
  {
   "cell_type": "markdown",
   "id": "d992ba34-990e-4473-9c24-cc2e5452710a",
   "metadata": {},
   "source": [
    "## Одномерный анализ"
   ]
  },
  {
   "cell_type": "markdown",
   "id": "b6bd680b-5ea9-476c-b01a-46e0207d2c66",
   "metadata": {},
   "source": [
    "# Статистический анализ на норму"
   ]
  },
  {
   "cell_type": "markdown",
   "id": "29ae7a7c-499c-4340-a81d-40e6475942a6",
   "metadata": {
    "tags": []
   },
   "source": [
    "\n",
    "Анализы на норму используются для определения того, нормально ли распределен набор данных, и для проверки того, насколько вероятно, что случайная величина в наборе данных будет нормально распределена.\n",
    "\n",
    "Популярные методы -  K'2-тест Д'Агостино, критерий Шапиро-Уилка, критерий Андерсона — Дарлинга.\n",
    "\n",
    "Гипотезы:\n",
    "\n",
    "* H0: выборка имеет распределение по Гауссу.\n",
    "* H1: выборка не имеет распределения по Гауссу.\n",
    "\n",
    "Примечание: **Тест Шапиро-Уилка** не выполняется в том случае, если размер выборки > 5000 и для этого теста p-значение может быть неточным для N > 5000"
   ]
  },
  {
   "cell_type": "markdown",
   "id": "b04d08c2-1695-4610-b465-a0aa303874bf",
   "metadata": {},
   "source": [
    "### Тест Шапиро-Уилка"
   ]
  },
  {
   "cell_type": "code",
   "execution_count": 18,
   "id": "54fbb6c7-7384-4fa4-b729-f12611f9670d",
   "metadata": {
    "tags": []
   },
   "outputs": [
    {
     "name": "stdout",
     "output_type": "stream",
     "text": [
      "P-value:0.00000. Нулевая гипотеза отвергается\n"
     ]
    }
   ],
   "source": [
    "_, pvalue = stats.shapiro(data)\n",
    "\n",
    "alpha = .05\n",
    "\n",
    "if pvalue < alpha:\n",
    "    print(f'P-value:{pvalue:.5f}. Нулевая гипотеза отвергается')\n",
    "else:\n",
    "    print(f'P-value:{pvalue:.5f}. Подтверждается нулевая гипотеза')"
   ]
  },
  {
   "cell_type": "code",
   "execution_count": 19,
   "id": "ba92438d-2b4a-4547-b697-0adede656e10",
   "metadata": {
    "tags": []
   },
   "outputs": [
    {
     "data": {
      "text/plain": [
       "<AxesSubplot: >"
      ]
     },
     "execution_count": 19,
     "metadata": {},
     "output_type": "execute_result"
    },
    {
     "data": {
      "image/png": "[encoded data removed]",
      "text/plain": [
       "<Figure size 640x480 with 1 Axes>"
      ]
     },
     "metadata": {},
     "output_type": "display_data"
    }
   ],
   "source": [
    "a = pd.Series(np.random.normal(loc=100, scale=20, size=5000))\n",
    "a.hist(bins=30)"
   ]
  },
  {
   "cell_type": "code",
   "execution_count": 20,
   "id": "1a7c4b66-2683-468c-bea2-95f6959dee6a",
   "metadata": {
    "tags": []
   },
   "outputs": [
    {
     "name": "stdout",
     "output_type": "stream",
     "text": [
      "P-value:0.46364. Подтверждается нулевая гипотеза\n"
     ]
    }
   ],
   "source": [
    "_, pvalue = stats.shapiro(a)\n",
    "\n",
    "alpha = .05\n",
    "\n",
    "if pvalue < alpha:\n",
    "    print(f'P-value:{pvalue:.5f}. Нулевая гипотеза отвергается')\n",
    "else:\n",
    "    print(f'P-value:{pvalue:.5f}. Подтверждается нулевая гипотеза')"
   ]
  },
  {
   "cell_type": "markdown",
   "id": "1aa8c1c9-40c0-497e-b84c-88dd3a6af538",
   "metadata": {},
   "source": [
    "### К'2-тест Д'Агостино"
   ]
  },
  {
   "cell_type": "code",
   "execution_count": 21,
   "id": "f794fe79-a173-4fed-9c31-6190b424746e",
   "metadata": {
    "tags": []
   },
   "outputs": [
    {
     "name": "stdout",
     "output_type": "stream",
     "text": [
      "P-value:0.45915. Подтверждается нулевая гипотеза\n"
     ]
    }
   ],
   "source": [
    "_, pvalue = stats.normaltest(a)\n",
    "\n",
    "alpha = 0.05\n",
    "\n",
    "if pvalue < alpha:\n",
    "    print(f'P-value:{pvalue:.5f}. Нулевая гипотеза отвергается')\n",
    "else:\n",
    "    print(f'P-value:{pvalue:.5f}. Подтверждается нулевая гипотеза')"
   ]
  },
  {
   "cell_type": "markdown",
   "id": "20b496c0-8e65-4474-89ec-0f817e5843e8",
   "metadata": {
    "tags": []
   },
   "source": [
    "### Критерий Андерсона — Дарлинга\n",
    "\n",
    "`Критические значения` в статистическом тесте представляют собой диапазон заранее определенных границ значимости, при которых H0 может быть отклонен, если вычисленная статистика меньше критического значения.\n",
    "\n",
    "Особенностью теста Андерсона-Дарлинга является то, что он возвращает список критических значений, а не одно значение p. Это может послужить основой для более тщательной интерпретации результата.\n",
    "\n",
    "В данном случае - **normal/exponential** (15%, 10%, 5%, 2.5%, 1%)"
   ]
  },
  {
   "cell_type": "code",
   "execution_count": 22,
   "id": "9eb007ff-d869-499f-9475-318ffbb835ef",
   "metadata": {
    "tags": []
   },
   "outputs": [
    {
     "name": "stdout",
     "output_type": "stream",
     "text": [
      "Statistic: 0.192\n",
      "Уровень значимости 15.00 % : критическое значение 0.576, данные выглядят нормально (не удается отклонить H0)\n",
      "Уровень значимости 10.00 % : критическое значение 0.655, данные выглядят нормально (не удается отклонить H0)\n",
      "Уровень значимости 5.00 % : критическое значение 0.786, данные выглядят нормально (не удается отклонить H0)\n",
      "Уровень значимости 2.50 % : критическое значение 0.917, данные выглядят нормально (не удается отклонить H0)\n",
      "Уровень значимости 1.00 % : критическое значение 1.091, данные выглядят нормально (не удается отклонить H0)\n"
     ]
    }
   ],
   "source": [
    "result = stats.anderson(a)\n",
    "\n",
    "print('Statistic: %.3f' % result.statistic)\n",
    "\n",
    "p = 0\n",
    "\n",
    "for i in range(len(result.critical_values)):\n",
    "    sl, cv = result.significance_level[i], result.critical_values[i]\n",
    "    if result.statistic < result.critical_values[i]:\n",
    "        print(f'Уровень значимости {sl:.2f} % : критическое значение {cv:.3f}, данные выглядят нормально (не удается отклонить H0)')\n",
    "    else:\n",
    "        print(f'Уровень значимости {sl:.2f} % : критическое значение {cv:.3f}, данные не выглядят нормально (отклоняем H0)')"
   ]
  },
  {
   "cell_type": "markdown",
   "id": "492996a5-2a87-48e8-a725-c74476b50f10",
   "metadata": {},
   "source": [
    "## 6 Двумерный Анализ\n",
    "\n",
    "В этом разделе мы проведем обширный статистический анализ с проверкой различных гипотез на основе парных типов данных: \n",
    "\n",
    "* числовые и числовые данные\n",
    "* числовые и порядковые данные\n",
    "* порядковые и порядковые данные\n",
    "* категориальные и категориальные данные\n",
    "\n",
    "\n",
    "**Основные гипотезы:**\n",
    "\n",
    "* H0: эти два признака независимы\n",
    "* H1: существует зависимость между признака"
   ]
  },
  {
   "cell_type": "markdown",
   "id": "61e307f6-9290-4ab1-a54c-c2fc44f78019",
   "metadata": {},
   "source": [
    "## Числовые и числовые\n",
    "\n",
    "### Коэффициент ранговой корреляции Спирмена \n",
    "\n",
    "Она же `Spearman's rho` или `Spearman correlation coefficient`\n",
    "\n",
    "Применяется к **Непрерывным или порядковым** переменным\n",
    "\n",
    "Для корреляции `Пирсона` обе переменные должны быть нормально распределены\n",
    "\n",
    "**В отличие от корреляции Пирсона**, корреляция Спирмена не предполагает, что оба набора данных **распределены нормально**\n",
    "\n",
    "Корреляция Пирсона предполагает нормальность и линейность. Корреляция Пирсона также не может определить разницу между зависимыми и независимыми переменными\n",
    "\n",
    "Гипотезы:\n",
    "\n",
    "* **H0: две выборки не имеют монотонной взаимосвязи**\n",
    "* **H1: существует монотонная взаимосвязь между выборками**"
   ]
  },
  {
   "cell_type": "code",
   "execution_count": 23,
   "id": "9a269e8f-e9fc-4434-92cd-4509a2240c7d",
   "metadata": {
    "tags": []
   },
   "outputs": [
    {
     "name": "stdout",
     "output_type": "stream",
     "text": [
      "\"x\", \"y\" correlation: 0.15742502542101378, p: 0.024178833784526402\n",
      "Вероятно, имеют монотонную взаимосвязь (отклоняем H0)\n"
     ]
    }
   ],
   "source": [
    "alpha = 0.05\n",
    "\n",
    "correlation, pvalue = stats.spearmanr(df.x, df.y)\n",
    "\n",
    "print(f'\"x\", \"y\" correlation: {correlation}, p: {pvalue}')\n",
    "\n",
    "if pvalue > alpha:\n",
    "    print('Вероятно, у них нет монотонной взаимосвязи (не удается отклонить H0)')\n",
    "else:\n",
    "    print('Вероятно, имеют монотонную взаимосвязь (отклоняем H0)')"
   ]
  },
  {
   "cell_type": "code",
   "execution_count": 24,
   "id": "578ab9c4-7274-4ab2-8036-b8e2583ad70c",
   "metadata": {
    "tags": []
   },
   "outputs": [
    {
     "name": "stdout",
     "output_type": "stream",
     "text": [
      "\"x\", \"y\" correlation: 0.9999999999999999, p: 0.0\n",
      "Вероятно, имеют монотонную взаимосвязь (отклоняем H0)\n"
     ]
    }
   ],
   "source": [
    "j = df.x * 1.1\n",
    "\n",
    "alpha = 0.05\n",
    "\n",
    "correlation, pvalue = stats.spearmanr(df.x, j)\n",
    "\n",
    "print(f'\"x\", \"y\" correlation: {correlation}, p: {pvalue}')\n",
    "\n",
    "if pvalue > alpha:\n",
    "    print('Вероятно, у них нет монотонной взаимосвязи (не удается отклонить H0)')\n",
    "else:\n",
    "    print('Вероятно, имеют монотонную взаимосвязь (отклоняем H0)')"
   ]
  },
  {
   "cell_type": "markdown",
   "id": "24ba1c18-9b01-42e5-84fc-a07fa0c1662b",
   "metadata": {},
   "source": [
    "## Числовые и порядковые\n",
    "\n",
    "### Коэффициент корреляции Кендалла\n",
    "\n",
    "Он же **Kendall's τ** или **Kendall's Tau** или T-тест\n",
    "\n",
    "Тау Кендалла часто используется для корреляции непрерывных данных, если в данных есть выбросы\n",
    "\n",
    "Τ-тест - это непараметрическая проверка гипотезы на статистическую зависимость, основанная на коэффициенте τ\n",
    "\n",
    "Примеры порядковых переменных:\n",
    "* возраст, вес, рост, результаты тестов, опросов, годовая зарплата и т.д\n",
    "* уровень образования (бакалавры / магистры / профессора), уровень дохода (если сгруппирован в высокий / средний / низкий) и т.д"
   ]
  },
  {
   "cell_type": "code",
   "execution_count": 25,
   "id": "02ca3097-ac54-4f0e-b170-e26fcaf75bf5",
   "metadata": {
    "tags": []
   },
   "outputs": [
    {
     "name": "stdout",
     "output_type": "stream",
     "text": [
      "Корреляция между 'x' and 'z'\n",
      "Kendall correlation coefficient = -0.08009, p = 0.13839\n",
      "Признаки некоррелированы (не удается отклонить H0) p=0.138\n"
     ]
    }
   ],
   "source": [
    "primer = [0, 1, 2]\n",
    "\n",
    "df['z'] = np.random.choice(primer, size=len(df))\n",
    "\n",
    "coef, pvalue = stats.kendalltau(df.x, df.z)\n",
    "print(f\"Корреляция между 'x' and 'z'\")\n",
    "print('Kendall correlation coefficient = %.5f, p = %.5f' % (coef, pvalue))\n",
    "\n",
    "# interpret the significance\n",
    "alpha = 0.05\n",
    "if pvalue > alpha:\n",
    "    print('Признаки некоррелированы (не удается отклонить H0) p=%.3f' % pvalue)\n",
    "else:\n",
    "    print('Признаки коррелированы (отклоняем H0) p=%.3f' % pvalue)"
   ]
  },
  {
   "cell_type": "code",
   "execution_count": 26,
   "id": "537a71d5-be7f-43d2-873b-3ec461a9207f",
   "metadata": {
    "tags": []
   },
   "outputs": [
    {
     "name": "stdout",
     "output_type": "stream",
     "text": [
      "Корреляция между 'x' and 'z'\n",
      "Kendall correlation coefficient = 0.70171, p = 0.00000\n",
      "Признаки коррелированы (отклоняем H0) p=0.000\n"
     ]
    }
   ],
   "source": [
    "df['z'] = df.x.apply(lambda x: 0 if x < 5 else 1)\n",
    "\n",
    "coef, pvalue = stats.kendalltau(df.x, df.z)\n",
    "print(f\"Корреляция между 'x' and 'z'\")\n",
    "print('Kendall correlation coefficient = %.5f, p = %.5f' % (coef, pvalue))\n",
    "\n",
    "# interpret the significance\n",
    "alpha = 0.05\n",
    "if pvalue > alpha:\n",
    "    print('Признаки некоррелированы (не удается отклонить H0) p=%.3f' % pvalue)\n",
    "else:\n",
    "    print('Признаки коррелированы (отклоняем H0) p=%.3f' % pvalue)"
   ]
  },
  {
   "cell_type": "markdown",
   "id": "ea1d8b46-3808-45fa-ba67-70da8639c98d",
   "metadata": {},
   "source": [
    "### U-критерий Манна — Уитни\n",
    "\n",
    "U-критерий Манна-Уитни - это **непараметрический** тест статистической значимости для определения того, были ли взяты две независимые выборки из совокупности с одинаковым распределением.\n",
    "\n",
    "Тест определяет, различаются ли медианы двух или более групп.\n",
    "\n",
    "**ПРИМЕЧАНИЕ**: Для того, чтобы тест был эффективным, требуется **не менее 20 наблюдений** в каждой выборке данных.\n",
    "\n",
    "* Не удается отклонить H0: Выборочные распределения равны. (или выборочные распределения, скорее всего, взяты из одной и той же совокупности)\n",
    "* Отклоняем H0: Распределения выборок не равны."
   ]
  },
  {
   "cell_type": "code",
   "execution_count": 27,
   "id": "7acdbf33-b6b9-48f9-946e-c8a1e430a6cb",
   "metadata": {
    "tags": []
   },
   "outputs": [
    {
     "name": "stdout",
     "output_type": "stream",
     "text": [
      "Корреляция между 'x' and 'z'\n",
      "Statistics = 42025.00000, p = 0.00000\n",
      "Различное распределение (отклонение H0)\n"
     ]
    }
   ],
   "source": [
    "stat, pvalue = stats.mannwhitneyu(df.x, df.z)\n",
    "print(f\"Корреляция между 'x' and 'z'\")\n",
    "print('Statistics = %.5f, p = %.5f' % (stat, pvalue))\n",
    "\n",
    "alpha = 0.05\n",
    "if pvalue > alpha:\n",
    "    print('Одинаковое распределение (не удается отклонить H0)')\n",
    "else:\n",
    "    print('Различное распределение (отклонение H0)')"
   ]
  },
  {
   "cell_type": "markdown",
   "id": "0b3d1b24-6839-4fc1-9330-cc49d94213e1",
   "metadata": {},
   "source": [
    "## Категориальная & категориальная "
   ]
  },
  {
   "cell_type": "markdown",
   "id": "a76746d1-7c2b-47b1-8a0d-52b2a8488d30",
   "metadata": {},
   "source": [
    "### Chi-квадрат\n",
    "\n",
    "Обнаружим независимость между 2 категориальными переменными\n",
    "\n",
    "Тестовая статистика в контексте распределения Chi-квадрат с необходимым числом степеней свободы\n",
    "\n",
    "* Если Статистика >= Критическое значение: значимый результат, отклонить нулевую гипотезу (H0), зависимый.\n",
    "* Если статистика < Критическое значение: результат незначим, не удается отклонить нулевую гипотезу (H0), независим.\n",
    "\n",
    "В терминах p-значения и выбранного уровня значимости (альфа):\n",
    "\n",
    "* Если p-значение <= альфа: значимый результат, отклоните нулевую гипотезу (H0), зависимую.\n",
    "* Если p-значение > альфа: незначимый результат, не удается отклонить нулевую гипотезу (H0), независимую"
   ]
  },
  {
   "cell_type": "code",
   "execution_count": 28,
   "id": "b31231a8-da55-4bb8-bb11-bbea74e0e6f6",
   "metadata": {
    "tags": []
   },
   "outputs": [
    {
     "name": "stdout",
     "output_type": "stream",
     "text": [
      "p-value : 0.44578529847915926, degree of freedom: 2\n",
      "probability=0.950, critical=5.991, stat=1.616\n",
      "Независимый (не удается отклонить H0)\n",
      "significance=0.050, p=0.446\n",
      "Независимый (не удается отклонить H0)\n"
     ]
    }
   ],
   "source": [
    "df['w'] = np.random.choice(primer, size=len(df))\n",
    "\n",
    "crosstab = pd.crosstab(df.z, df.w)\n",
    "\n",
    "stat, p, dof, expected = stats.chi2_contingency(crosstab,correction=True)\n",
    "\n",
    "print(f'p-value : {p}, degree of freedom: {dof}')\n",
    "\n",
    "prob = 0.95\n",
    "critical = stats.chi2.ppf(prob, dof)\n",
    "print('probability=%.3f, critical=%.3f, stat=%.3f' % (prob, critical, stat))\n",
    "\n",
    "if abs(stat) >= critical:\n",
    "    print('Зависимый (отклонить H0)')\n",
    "else:\n",
    "    print('Независимый (не удается отклонить H0)')\n",
    "\n",
    "alpha = 1.0 - prob\n",
    "\n",
    "print('significance=%.3f, p=%.3f' % (alpha, p))\n",
    "if p <= alpha:\n",
    "    print('Зависимый (отклонить H0)')\n",
    "else:\n",
    "    print('Независимый (не удается отклонить H0)')"
   ]
  },
  {
   "cell_type": "code",
   "execution_count": 29,
   "id": "f297c287-aaa1-4bcd-9f05-c31a6ec596b8",
   "metadata": {
    "tags": []
   },
   "outputs": [
    {
     "name": "stdout",
     "output_type": "stream",
     "text": [
      "p-value : 3.0536243137247207e-45, degree of freedom: 2\n",
      "probability=0.950, critical=5.991, stat=205.000\n",
      "Зависимый (отклонить H0)\n",
      "significance=0.050, p=0.000\n",
      "Зависимый (отклонить H0)\n"
     ]
    }
   ],
   "source": [
    "df['j'] = df.w.apply(lambda x: 1 if x == 0 else 0)\n",
    "\n",
    "crosstab = pd.crosstab(df.w, df.j)\n",
    "\n",
    "stat, p, dof, expected = stats.chi2_contingency(crosstab,correction=True)\n",
    "\n",
    "print(f'p-value : {p}, degree of freedom: {dof}')\n",
    "\n",
    "prob = 0.95\n",
    "critical = stats.chi2.ppf(prob, dof)\n",
    "print('probability=%.3f, critical=%.3f, stat=%.3f' % (prob, critical, stat))\n",
    "\n",
    "if abs(stat) >= critical:\n",
    "    print('Зависимый (отклонить H0)')\n",
    "else:\n",
    "    print('Независимый (не удается отклонить H0)')\n",
    "\n",
    "alpha = 1.0 - prob\n",
    "\n",
    "print('significance=%.3f, p=%.3f' % (alpha, p))\n",
    "if p <= alpha:\n",
    "    print('Зависимый (отклонить H0)')\n",
    "else:\n",
    "    print('Независимый (не удается отклонить H0)')"
   ]
  },
  {
   "cell_type": "markdown",
   "id": "d7de717d-00d8-4518-97ae-42374a3e92c1",
   "metadata": {},
   "source": [
    "# Многомерный анализ"
   ]
  },
  {
   "cell_type": "markdown",
   "id": "a91f0fa9-1c2b-417d-aa0b-5340ecadcf89",
   "metadata": {},
   "source": [
    "## Мультиколлинеарность"
   ]
  },
  {
   "cell_type": "markdown",
   "id": "a455c39e-8870-48e1-afbb-599e6dd9c823",
   "metadata": {
    "tags": []
   },
   "source": [
    "**Мультиколлинеарность** - это явление, когда два или более факторов в модели линейной регрессии сильно коррелируют между собой. Это может привести к значительному снижению точности и надежности результатов модели машинного обучения и может помешать определению вклада каждой переменной в модель. \n",
    "\n",
    "Встроенные в `pandas` методы:\n",
    "\n",
    " - `pearson` : Пирсона - стандартная.\n",
    " - `kendall` : Кендалл Тау\n",
    " - `spearman` : Ранговая Спирмена"
   ]
  },
  {
   "cell_type": "code",
   "execution_count": 30,
   "id": "2fc7f5c6-6cde-4c34-8c8e-4b06dc02d885",
   "metadata": {
    "tags": []
   },
   "outputs": [
    {
     "data": {
      "image/png": "[encoded data removed]",
      "text/plain": [
       "<Figure size 640x480 with 2 Axes>"
      ]
     },
     "metadata": {},
     "output_type": "display_data"
    }
   ],
   "source": [
    "import seaborn as sns\n",
    "\n",
    "corrs = df.dropna().corr()\n",
    "sns.heatmap(corrs,\n",
    "            cmap='Greens',\n",
    "            square=True,\n",
    "            vmin=0, \n",
    "            annot=True);"
   ]
  },
  {
   "cell_type": "markdown",
   "id": "76942229-c9c9-4289-984c-60be73baf21d",
   "metadata": {},
   "source": [
    "На практике обычно удаляются те, которые превышают значения `> 0.8`. **НО** не корреляции с таргетом. Если у признака есть корреляция с таргетом - значит этот признак будет увеличивать метрики модели."
   ]
  },
  {
   "cell_type": "markdown",
   "id": "75d58830-5d91-4ead-bf11-73c93a8f1dab",
   "metadata": {},
   "source": [
    "### Phik - корреляция"
   ]
  },
  {
   "cell_type": "markdown",
   "id": "b35f28d1-107b-4289-ab0e-a88eb80be62f",
   "metadata": {},
   "source": [
    "`Phik` корреляция - это новый тип коэффициента корреляции, который основан на статистической информации о распределении переменных и измеряет не только линейную, но и нелинейную связь между переменными. Этот коэффициент был представлен в 2018 году в статье \"Phik: a new correlation coefficient between nominal variables\" и может быть очень полезен в анализе данных с категориальными переменными.\n",
    "\n",
    "`Phik` корреляция является непараметрическим коэффициентом корреляции, что значит, что он не требует предположений о распределении данных. Он включает в себя информацию о распределении категориальных переменных и позволяет обнаруживать различные зависимости между переменными, которые могут быть упущены при использовании обычного коэффициента корреляции.\n",
    "\n",
    "Суть метода базируется на подсчете хи-квадрат статистики, затем ее трансформации в нечто подобное коэффициенту корреляции только на отрезке от 0 (нулевая взаимосвязь) до 1 (максимальная взаимосвязь)"
   ]
  },
  {
   "cell_type": "code",
   "execution_count": 31,
   "id": "b9a814fe-6297-4aaf-92d1-370c233f93ad",
   "metadata": {
    "tags": []
   },
   "outputs": [],
   "source": [
    "!pip install phik -q"
   ]
  },
  {
   "cell_type": "code",
   "execution_count": 32,
   "id": "76d6dd3d-037b-4bfc-b27d-018f01dcf618",
   "metadata": {
    "tags": []
   },
   "outputs": [],
   "source": [
    "import phik\n",
    "from phik.report import plot_correlation_matrix\n",
    "from phik import report"
   ]
  },
  {
   "cell_type": "code",
   "execution_count": 33,
   "id": "f4956a29-88be-496f-a958-f7e46d402a03",
   "metadata": {
    "tags": []
   },
   "outputs": [
    {
     "name": "stdout",
     "output_type": "stream",
     "text": [
      "interval columns not set, guessing: ['x', 'y', 'z', 'w', 'j']\n"
     ]
    },
    {
     "data": {
      "image/png": "[encoded data removed]",
      "text/plain": [
       "<Figure size 500x500 with 2 Axes>"
      ]
     },
     "metadata": {},
     "output_type": "display_data"
    }
   ],
   "source": [
    "phik_overview = df.phik_matrix()\n",
    "\n",
    "plot_correlation_matrix(phik_overview.values, \n",
    "                        x_labels=phik_overview.columns, \n",
    "                        y_labels=phik_overview.index, \n",
    "                        vmin=0, vmax=1, color_map=\"Greens\", \n",
    "                        title=r\"correlation $\\phi_K$\", \n",
    "                        fontsize_factor=0.8, figsize=(5, 5))\n",
    "plt.tight_layout()"
   ]
  },
  {
   "cell_type": "code",
   "execution_count": null,
   "id": "41d56ee1-b89f-4f13-9d88-76a9963900ff",
   "metadata": {},
   "outputs": [],
   "source": []
  }
 ],
 "metadata": {
  "kernelspec": {
   "display_name": "Python 3 (ipykernel)",
   "language": "python",
   "name": "python3"
  },
  "language_info": {
   "codemirror_mode": {
    "name": "ipython",
    "version": 3
   },
   "file_extension": ".py",
   "mimetype": "text/x-python",
   "name": "python",
   "nbconvert_exporter": "python",
   "pygments_lexer": "ipython3",
   "version": "3.9.13"
  }
 },
 "nbformat": 4,
 "nbformat_minor": 5
}
