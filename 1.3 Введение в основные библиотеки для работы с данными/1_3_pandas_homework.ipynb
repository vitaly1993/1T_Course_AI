{
 "cells": [
  {
   "cell_type": "code",
   "execution_count": 3,
   "metadata": {},
   "outputs": [],
   "source": [
    "import pandas as pd"
   ]
  },
  {
   "attachments": {},
   "cell_type": "markdown",
   "metadata": {},
   "source": [
    "# Работа с Pandas"
   ]
  },
  {
   "attachments": {},
   "cell_type": "markdown",
   "metadata": {},
   "source": [
    "1. Загрузите ваш DataFrame в переменную df и выведете на экран первые пять строк "
   ]
  },
  {
   "cell_type": "code",
   "execution_count": 4,
   "metadata": {},
   "outputs": [
    {
     "data": {
      "text/html": [
       "<div>\n",
       "<style scoped>\n",
       "    .dataframe tbody tr th:only-of-type {\n",
       "        vertical-align: middle;\n",
       "    }\n",
       "\n",
       "    .dataframe tbody tr th {\n",
       "        vertical-align: top;\n",
       "    }\n",
       "\n",
       "    .dataframe thead th {\n",
       "        text-align: right;\n",
       "    }\n",
       "</style>\n",
       "<table border=\"1\" class=\"dataframe\">\n",
       "  <thead>\n",
       "    <tr style=\"text-align: right;\">\n",
       "      <th></th>\n",
       "      <th>app</th>\n",
       "      <th>category</th>\n",
       "      <th>rating</th>\n",
       "      <th>reviews</th>\n",
       "      <th>size</th>\n",
       "      <th>installs</th>\n",
       "      <th>type</th>\n",
       "      <th>price</th>\n",
       "      <th>content_rating</th>\n",
       "      <th>genres</th>\n",
       "      <th>last_updated</th>\n",
       "      <th>current_ver</th>\n",
       "      <th>android_ver</th>\n",
       "    </tr>\n",
       "  </thead>\n",
       "  <tbody>\n",
       "    <tr>\n",
       "      <th>0</th>\n",
       "      <td>Photo Editor &amp; Candy Camera &amp; Grid &amp; ScrapBook</td>\n",
       "      <td>ART_AND_DESIGN</td>\n",
       "      <td>4.1</td>\n",
       "      <td>159</td>\n",
       "      <td>19M</td>\n",
       "      <td>10,000+</td>\n",
       "      <td>Free</td>\n",
       "      <td>0.0</td>\n",
       "      <td>Everyone</td>\n",
       "      <td>Art &amp; Design</td>\n",
       "      <td>January 7, 2018</td>\n",
       "      <td>1.0.0</td>\n",
       "      <td>4.0.3 and up</td>\n",
       "    </tr>\n",
       "    <tr>\n",
       "      <th>1</th>\n",
       "      <td>Coloring book moana</td>\n",
       "      <td>ART_AND_DESIGN</td>\n",
       "      <td>3.9</td>\n",
       "      <td>967</td>\n",
       "      <td>14M</td>\n",
       "      <td>500,000+</td>\n",
       "      <td>Free</td>\n",
       "      <td>0.0</td>\n",
       "      <td>Everyone</td>\n",
       "      <td>Art &amp; Design;Pretend Play</td>\n",
       "      <td>January 15, 2018</td>\n",
       "      <td>2.0.0</td>\n",
       "      <td>4.0.3 and up</td>\n",
       "    </tr>\n",
       "    <tr>\n",
       "      <th>2</th>\n",
       "      <td>U Launcher Lite – FREE Live Cool Themes, Hide ...</td>\n",
       "      <td>ART_AND_DESIGN</td>\n",
       "      <td>4.7</td>\n",
       "      <td>87510</td>\n",
       "      <td>8.7M</td>\n",
       "      <td>5,000,000+</td>\n",
       "      <td>Free</td>\n",
       "      <td>0.0</td>\n",
       "      <td>Everyone</td>\n",
       "      <td>Art &amp; Design</td>\n",
       "      <td>August 1, 2018</td>\n",
       "      <td>1.2.4</td>\n",
       "      <td>4.0.3 and up</td>\n",
       "    </tr>\n",
       "    <tr>\n",
       "      <th>3</th>\n",
       "      <td>Sketch - Draw &amp; Paint</td>\n",
       "      <td>ART_AND_DESIGN</td>\n",
       "      <td>4.5</td>\n",
       "      <td>215644</td>\n",
       "      <td>25M</td>\n",
       "      <td>50,000,000+</td>\n",
       "      <td>Free</td>\n",
       "      <td>0.0</td>\n",
       "      <td>Teen</td>\n",
       "      <td>Art &amp; Design</td>\n",
       "      <td>June 8, 2018</td>\n",
       "      <td>Varies with device</td>\n",
       "      <td>4.2 and up</td>\n",
       "    </tr>\n",
       "    <tr>\n",
       "      <th>4</th>\n",
       "      <td>Pixel Draw - Number Art Coloring Book</td>\n",
       "      <td>ART_AND_DESIGN</td>\n",
       "      <td>4.3</td>\n",
       "      <td>967</td>\n",
       "      <td>2.8M</td>\n",
       "      <td>100,000+</td>\n",
       "      <td>Free</td>\n",
       "      <td>0.0</td>\n",
       "      <td>Everyone</td>\n",
       "      <td>Art &amp; Design;Creativity</td>\n",
       "      <td>June 20, 2018</td>\n",
       "      <td>1.1</td>\n",
       "      <td>4.4 and up</td>\n",
       "    </tr>\n",
       "  </tbody>\n",
       "</table>\n",
       "</div>"
      ],
      "text/plain": [
       "                                                 app        category  rating  \\\n",
       "0     Photo Editor & Candy Camera & Grid & ScrapBook  ART_AND_DESIGN     4.1   \n",
       "1                                Coloring book moana  ART_AND_DESIGN     3.9   \n",
       "2  U Launcher Lite – FREE Live Cool Themes, Hide ...  ART_AND_DESIGN     4.7   \n",
       "3                              Sketch - Draw & Paint  ART_AND_DESIGN     4.5   \n",
       "4              Pixel Draw - Number Art Coloring Book  ART_AND_DESIGN     4.3   \n",
       "\n",
       "  reviews  size     installs  type  price content_rating  \\\n",
       "0     159   19M      10,000+  Free    0.0       Everyone   \n",
       "1     967   14M     500,000+  Free    0.0       Everyone   \n",
       "2   87510  8.7M   5,000,000+  Free    0.0       Everyone   \n",
       "3  215644   25M  50,000,000+  Free    0.0           Teen   \n",
       "4     967  2.8M     100,000+  Free    0.0       Everyone   \n",
       "\n",
       "                      genres      last_updated         current_ver  \\\n",
       "0               Art & Design   January 7, 2018               1.0.0   \n",
       "1  Art & Design;Pretend Play  January 15, 2018               2.0.0   \n",
       "2               Art & Design    August 1, 2018               1.2.4   \n",
       "3               Art & Design      June 8, 2018  Varies with device   \n",
       "4    Art & Design;Creativity     June 20, 2018                 1.1   \n",
       "\n",
       "    android_ver  \n",
       "0  4.0.3 and up  \n",
       "1  4.0.3 and up  \n",
       "2  4.0.3 and up  \n",
       "3    4.2 and up  \n",
       "4    4.4 and up  "
      ]
     },
     "execution_count": 4,
     "metadata": {},
     "output_type": "execute_result"
    }
   ],
   "source": [
    "#Задаем название файла DataFrame, важно чтобы он лежал в одной дирректории с ноутбуком\n",
    "DataFrame = 'googleplaystore.csv'\n",
    "\n",
    "#Подгружаем файл\n",
    "df = pd.read_csv(DataFrame)\n",
    "\n",
    "#Приводим название столбцов к соответствию по pep8 (было сказанно в уроке)\n",
    "df.columns = df.columns.str.lower().str.replace(' ', '_')\n",
    "\n",
    "#Вывод первых пяти строк\n",
    "df.head()"
   ]
  },
  {
   "attachments": {},
   "cell_type": "markdown",
   "metadata": {},
   "source": [
    "2. Отобразите количество строк и столбцов в DataFrame"
   ]
  },
  {
   "cell_type": "code",
   "execution_count": 5,
   "metadata": {},
   "outputs": [
    {
     "name": "stdout",
     "output_type": "stream",
     "text": [
      "Количество строк в DataFrame - 10841\n",
      "Количество столбцов в DataFrame - 13\n"
     ]
    }
   ],
   "source": [
    "print(f\"Количество строк в DataFrame - {df.shape[0]}\")\n",
    "print(f\"Количество столбцов в DataFrame - {df.shape[1]}\")"
   ]
  },
  {
   "attachments": {},
   "cell_type": "markdown",
   "metadata": {},
   "source": [
    "3. Выведете основную информацию о DataFrame методом info(). Проанализируйте есть ли пропуски в столбцах. Напишите вывод о том, какие столбцы содержат пропуски"
   ]
  },
  {
   "cell_type": "code",
   "execution_count": 6,
   "metadata": {},
   "outputs": [
    {
     "name": "stdout",
     "output_type": "stream",
     "text": [
      "<class 'pandas.core.frame.DataFrame'>\n",
      "RangeIndex: 10841 entries, 0 to 10840\n",
      "Data columns (total 13 columns):\n",
      " #   Column          Non-Null Count  Dtype  \n",
      "---  ------          --------------  -----  \n",
      " 0   app             10841 non-null  object \n",
      " 1   category        10841 non-null  object \n",
      " 2   rating          9367 non-null   float64\n",
      " 3   reviews         10841 non-null  object \n",
      " 4   size            10841 non-null  object \n",
      " 5   installs        10841 non-null  object \n",
      " 6   type            10840 non-null  object \n",
      " 7   price           10841 non-null  float64\n",
      " 8   content_rating  10840 non-null  object \n",
      " 9   genres          10841 non-null  object \n",
      " 10  last_updated    10841 non-null  object \n",
      " 11  current_ver     10833 non-null  object \n",
      " 12  android_ver     10838 non-null  object \n",
      "dtypes: float64(2), object(11)\n",
      "memory usage: 1.1+ MB\n",
      "Столбцы с пропущенными значениями: rating, type, content_rating, current_ver, android_ver\n"
     ]
    }
   ],
   "source": [
    "df.info()\n",
    "# определение столбцов с пропущенными значениями\n",
    "# Вариант 1\n",
    "cols_with_missing = [col for col in df.columns if df[col].isna().any()]\n",
    "# Вариант 2\n",
    "#cols_with_missing = [col for col in df.columns if df[col].isnull().any()]\n",
    "# вывод названий столбцов с пропущенными значениями через f-строку\n",
    "print(f\"Столбцы с пропущенными значениями: {', '.join(cols_with_missing)}\")"
   ]
  },
  {
   "attachments": {},
   "cell_type": "markdown",
   "metadata": {},
   "source": [
    "4. Удалите или замените пропуски известными вам методами. (Подсказка: `dropna()` или `fillna()`, выбор того или иного метода должен быть аргументирован)."
   ]
  },
  {
   "cell_type": "code",
   "execution_count": 5,
   "metadata": {},
   "outputs": [
    {
     "data": {
      "text/plain": [
       "(9360, 13)"
      ]
     },
     "execution_count": 5,
     "metadata": {},
     "output_type": "execute_result"
    }
   ],
   "source": [
    "# Смотрим сколько строк останется после применения метода dropna() \n",
    "df.dropna().shape"
   ]
  },
  {
   "attachments": {},
   "cell_type": "markdown",
   "metadata": {},
   "source": [
    "Методом dropna() отрезается 1481 строка, что составляет 13.66% от общего числа строк. В уроке было сказанно, что принято использовать метод dropna() с учетом того, что отрезается не больше 10%. Соответственно в данном случае метод dropna() не подходит. Но мы применим его после заполнения медианой столбца rating."
   ]
  },
  {
   "cell_type": "code",
   "execution_count": 6,
   "metadata": {},
   "outputs": [],
   "source": [
    "# Заполним пропуски в столбце rating медианным значением\n",
    "df.rating = df.rating.fillna(df.rating.median())\n",
    "# Теперь можно применить метод dropna() и перезаписать данные\n",
    "df.dropna(inplace=True)\n",
    "# Перезаписываем индексы\n",
    "df.reset_index(drop=True, inplace=True)"
   ]
  },
  {
   "attachments": {},
   "cell_type": "markdown",
   "metadata": {},
   "source": [
    "5. Проверьте нет ли пропусков после произведенной обработки"
   ]
  },
  {
   "cell_type": "code",
   "execution_count": 7,
   "metadata": {},
   "outputs": [
    {
     "data": {
      "text/plain": [
       "app               0\n",
       "category          0\n",
       "rating            0\n",
       "reviews           0\n",
       "size              0\n",
       "installs          0\n",
       "type              0\n",
       "price             0\n",
       "content_rating    0\n",
       "genres            0\n",
       "last_updated      0\n",
       "current_ver       0\n",
       "android_ver       0\n",
       "dtype: int64"
      ]
     },
     "execution_count": 7,
     "metadata": {},
     "output_type": "execute_result"
    }
   ],
   "source": [
    "# Проверяем пропуски более удобным методом \n",
    "df.isna().sum()"
   ]
  },
  {
   "attachments": {},
   "cell_type": "markdown",
   "metadata": {},
   "source": [
    "6. Выведите на экран минимум и максимум из столбца `Price`:"
   ]
  },
  {
   "cell_type": "code",
   "execution_count": 8,
   "metadata": {},
   "outputs": [
    {
     "name": "stdout",
     "output_type": "stream",
     "text": [
      "Минимальное значение в столбце Price: 0.0\n",
      "Максимальное значение в столбце Price: 400.0\n"
     ]
    }
   ],
   "source": [
    "# вывод минимального и максимального значения из столбца Price\n",
    "print(f\"Минимальное значение в столбце Price: {df.price.min()}\")\n",
    "print(f\"Максимальное значение в столбце Price: {df.price.max()}\")"
   ]
  },
  {
   "attachments": {},
   "cell_type": "markdown",
   "metadata": {},
   "source": [
    "7. Выведите на экран медиану и среднее арифметическое столбцов:\n",
    " - Rating\n",
    " - Reviews"
   ]
  },
  {
   "cell_type": "code",
   "execution_count": 9,
   "metadata": {},
   "outputs": [
    {
     "name": "stdout",
     "output_type": "stream",
     "text": [
      "Медиана столбца Rating: 4.3\n",
      "Среднее арифметическое столбца Rating: 4.206510296426262\n",
      "Медиана столбца Reviews: 2100.0\n",
      "Среднее арифметическое столбца Reviews: inf\n"
     ]
    }
   ],
   "source": [
    "# вывод медианы и среднего арифметического столбцов Rating и Reviews\n",
    "print(f\"Медиана столбца Rating: {df.rating.median()}\")\n",
    "print(f\"Среднее арифметическое столбца Rating: {df.rating.mean()}\")\n",
    "print(f\"Медиана столбца Reviews: {df.reviews.median()}\")\n",
    "print(f\"Среднее арифметическое столбца Reviews: {df.reviews.mean()}\")"
   ]
  },
  {
   "attachments": {},
   "cell_type": "markdown",
   "metadata": {},
   "source": [
    "8. Выведите на экран все уникальные значения категориального столбца Genres"
   ]
  },
  {
   "cell_type": "code",
   "execution_count": 10,
   "metadata": {},
   "outputs": [
    {
     "data": {
      "text/plain": [
       "0                         Art & Design\n",
       "1            Art & Design;Pretend Play\n",
       "2              Art & Design;Creativity\n",
       "3      Art & Design;Action & Adventure\n",
       "4                      Auto & Vehicles\n",
       "                    ...               \n",
       "114           Role Playing;Brain Games\n",
       "115                 Strategy;Education\n",
       "116                Racing;Pretend Play\n",
       "117           Communication;Creativity\n",
       "118                Strategy;Creativity\n",
       "Name: unique_genres, Length: 119, dtype: object"
      ]
     },
     "execution_count": 10,
     "metadata": {},
     "output_type": "execute_result"
    }
   ],
   "source": [
    "s = pd.Series(data=list(df.genres.unique()), name='unique_genres')\n",
    "s"
   ]
  },
  {
   "attachments": {},
   "cell_type": "markdown",
   "metadata": {},
   "source": [
    "9. Сгруппируйте данные по столбцу `Genres` и посчитайте для каждого жанра средний и медианный рейтинг. Представьте результат в виде нового DataFrame,который будет сохранен в переменную `grouped_df`, где одна колонка будет содержать названия жарнов, а две другие буду содержать в себе средний и медианный рейтинги. Напишите краткий вывод."
   ]
  },
  {
   "cell_type": "code",
   "execution_count": 11,
   "metadata": {},
   "outputs": [
    {
     "data": {
      "text/html": [
       "<div>\n",
       "<style scoped>\n",
       "    .dataframe tbody tr th:only-of-type {\n",
       "        vertical-align: middle;\n",
       "    }\n",
       "\n",
       "    .dataframe tbody tr th {\n",
       "        vertical-align: top;\n",
       "    }\n",
       "\n",
       "    .dataframe thead th {\n",
       "        text-align: right;\n",
       "    }\n",
       "</style>\n",
       "<table border=\"1\" class=\"dataframe\">\n",
       "  <thead>\n",
       "    <tr style=\"text-align: right;\">\n",
       "      <th></th>\n",
       "      <th>genres</th>\n",
       "      <th>rating_median</th>\n",
       "      <th>rating_mean</th>\n",
       "    </tr>\n",
       "  </thead>\n",
       "  <tbody>\n",
       "    <tr>\n",
       "      <th>72</th>\n",
       "      <td>Music</td>\n",
       "      <td>4.3</td>\n",
       "      <td>4.218182</td>\n",
       "    </tr>\n",
       "    <tr>\n",
       "      <th>1</th>\n",
       "      <td>Action;Action &amp; Adventure</td>\n",
       "      <td>4.3</td>\n",
       "      <td>4.311765</td>\n",
       "    </tr>\n",
       "    <tr>\n",
       "      <th>39</th>\n",
       "      <td>Education</td>\n",
       "      <td>4.3</td>\n",
       "      <td>4.302190</td>\n",
       "    </tr>\n",
       "    <tr>\n",
       "      <th>71</th>\n",
       "      <td>Medical</td>\n",
       "      <td>4.3</td>\n",
       "      <td>4.216199</td>\n",
       "    </tr>\n",
       "    <tr>\n",
       "      <th>98</th>\n",
       "      <td>Simulation;Action &amp; Adventure</td>\n",
       "      <td>4.5</td>\n",
       "      <td>4.418182</td>\n",
       "    </tr>\n",
       "    <tr>\n",
       "      <th>30</th>\n",
       "      <td>Casual;Creativity</td>\n",
       "      <td>4.2</td>\n",
       "      <td>4.314286</td>\n",
       "    </tr>\n",
       "    <tr>\n",
       "      <th>102</th>\n",
       "      <td>Sports</td>\n",
       "      <td>4.3</td>\n",
       "      <td>4.246985</td>\n",
       "    </tr>\n",
       "    <tr>\n",
       "      <th>15</th>\n",
       "      <td>Board</td>\n",
       "      <td>4.3</td>\n",
       "      <td>4.293182</td>\n",
       "    </tr>\n",
       "    <tr>\n",
       "      <th>109</th>\n",
       "      <td>Tools;Education</td>\n",
       "      <td>4.5</td>\n",
       "      <td>4.500000</td>\n",
       "    </tr>\n",
       "    <tr>\n",
       "      <th>59</th>\n",
       "      <td>Events</td>\n",
       "      <td>4.3</td>\n",
       "      <td>4.395313</td>\n",
       "    </tr>\n",
       "  </tbody>\n",
       "</table>\n",
       "</div>"
      ],
      "text/plain": [
       "                            genres  rating_median  rating_mean\n",
       "72                           Music            4.3     4.218182\n",
       "1        Action;Action & Adventure            4.3     4.311765\n",
       "39                       Education            4.3     4.302190\n",
       "71                         Medical            4.3     4.216199\n",
       "98   Simulation;Action & Adventure            4.5     4.418182\n",
       "30               Casual;Creativity            4.2     4.314286\n",
       "102                         Sports            4.3     4.246985\n",
       "15                           Board            4.3     4.293182\n",
       "109                Tools;Education            4.5     4.500000\n",
       "59                          Events            4.3     4.395313"
      ]
     },
     "execution_count": 11,
     "metadata": {},
     "output_type": "execute_result"
    }
   ],
   "source": [
    "grouped_df = df.groupby(by='genres', as_index=False).agg(rating_median = ('rating','median'), rating_mean = ('rating','mean'))\n",
    "grouped_df.sample(10)"
   ]
  },
  {
   "cell_type": "code",
   "execution_count": 12,
   "metadata": {},
   "outputs": [
    {
     "data": {
      "text/html": [
       "<div>\n",
       "<style scoped>\n",
       "    .dataframe tbody tr th:only-of-type {\n",
       "        vertical-align: middle;\n",
       "    }\n",
       "\n",
       "    .dataframe tbody tr th {\n",
       "        vertical-align: top;\n",
       "    }\n",
       "\n",
       "    .dataframe thead th {\n",
       "        text-align: right;\n",
       "    }\n",
       "</style>\n",
       "<table border=\"1\" class=\"dataframe\">\n",
       "  <thead>\n",
       "    <tr style=\"text-align: right;\">\n",
       "      <th></th>\n",
       "      <th>genres</th>\n",
       "      <th>rating_median</th>\n",
       "      <th>rating_mean</th>\n",
       "    </tr>\n",
       "  </thead>\n",
       "  <tbody>\n",
       "    <tr>\n",
       "      <th>12</th>\n",
       "      <td>Art &amp; Design;Pretend Play</td>\n",
       "      <td>3.9</td>\n",
       "      <td>3.9</td>\n",
       "    </tr>\n",
       "    <tr>\n",
       "      <th>63</th>\n",
       "      <td>Health &amp; Fitness;Action &amp; Adventure</td>\n",
       "      <td>3.9</td>\n",
       "      <td>3.9</td>\n",
       "    </tr>\n",
       "    <tr>\n",
       "      <th>77</th>\n",
       "      <td>Parenting;Brain Games</td>\n",
       "      <td>3.8</td>\n",
       "      <td>3.8</td>\n",
       "    </tr>\n",
       "  </tbody>\n",
       "</table>\n",
       "</div>"
      ],
      "text/plain": [
       "                                 genres  rating_median  rating_mean\n",
       "12            Art & Design;Pretend Play            3.9          3.9\n",
       "63  Health & Fitness;Action & Adventure            3.9          3.9\n",
       "77                Parenting;Brain Games            3.8          3.8"
      ]
     },
     "execution_count": 12,
     "metadata": {},
     "output_type": "execute_result"
    }
   ],
   "source": [
    "# Код для кратких выводов\n",
    "# квартиль 5%\n",
    "Q05 = grouped_df.rating_median.quantile(0.05)\n",
    "# Жанры с самым низким рейтингом\n",
    "grouped_df.query('rating_median < @Q05')\n"
   ]
  },
  {
   "cell_type": "code",
   "execution_count": 13,
   "metadata": {},
   "outputs": [
    {
     "data": {
      "text/html": [
       "<div>\n",
       "<style scoped>\n",
       "    .dataframe tbody tr th:only-of-type {\n",
       "        vertical-align: middle;\n",
       "    }\n",
       "\n",
       "    .dataframe tbody tr th {\n",
       "        vertical-align: top;\n",
       "    }\n",
       "\n",
       "    .dataframe thead th {\n",
       "        text-align: right;\n",
       "    }\n",
       "</style>\n",
       "<table border=\"1\" class=\"dataframe\">\n",
       "  <thead>\n",
       "    <tr style=\"text-align: right;\">\n",
       "      <th></th>\n",
       "      <th>genres</th>\n",
       "      <th>rating_median</th>\n",
       "      <th>rating_mean</th>\n",
       "    </tr>\n",
       "  </thead>\n",
       "  <tbody>\n",
       "    <tr>\n",
       "      <th>11</th>\n",
       "      <td>Art &amp; Design;Creativity</td>\n",
       "      <td>4.7</td>\n",
       "      <td>4.4</td>\n",
       "    </tr>\n",
       "    <tr>\n",
       "      <th>18</th>\n",
       "      <td>Board;Pretend Play</td>\n",
       "      <td>4.8</td>\n",
       "      <td>4.8</td>\n",
       "    </tr>\n",
       "    <tr>\n",
       "      <th>35</th>\n",
       "      <td>Comics;Creativity</td>\n",
       "      <td>4.8</td>\n",
       "      <td>4.8</td>\n",
       "    </tr>\n",
       "    <tr>\n",
       "      <th>64</th>\n",
       "      <td>Health &amp; Fitness;Education</td>\n",
       "      <td>4.7</td>\n",
       "      <td>4.7</td>\n",
       "    </tr>\n",
       "  </tbody>\n",
       "</table>\n",
       "</div>"
      ],
      "text/plain": [
       "                        genres  rating_median  rating_mean\n",
       "11     Art & Design;Creativity            4.7          4.4\n",
       "18          Board;Pretend Play            4.8          4.8\n",
       "35           Comics;Creativity            4.8          4.8\n",
       "64  Health & Fitness;Education            4.7          4.7"
      ]
     },
     "execution_count": 13,
     "metadata": {},
     "output_type": "execute_result"
    }
   ],
   "source": [
    "# квартиль 95%\n",
    "Q95 = grouped_df.rating_median.quantile(0.95)\n",
    "# Жанры с самым высоким рейтингом\n",
    "grouped_df.query('rating_median > @Q95')"
   ]
  },
  {
   "attachments": {},
   "cell_type": "markdown",
   "metadata": {},
   "source": [
    "rating_median и rating_mean близки по значениям для всех жанров. Вывод наиболее и наимение рейтинговых жанров позволяет сделать вывод о том, что наиболее рейтинговыми жанрами приложений являются \"настольные и ролевые игры\", \"комиксы и творчество\". Жанры саязанные артом и дизайном, а также здоровьем и фитнесом попали как в категорию с самым высоким рейтинго так и с самым низким, но нюанс заключается в том, что пользователям интересны приложения катекории \"Арт и Дизайн\" в подразделе \"Творчество\", а в категории \"Здоровье и фитнес\" в подразделе \"Обучение\""
   ]
  },
  {
   "attachments": {},
   "cell_type": "markdown",
   "metadata": {},
   "source": [
    "10. Из получившегося датафрейма выведите на экран только те жанры, чей медианный рейтинг больше 4.5. Напишите краткий вывод."
   ]
  },
  {
   "cell_type": "code",
   "execution_count": 14,
   "metadata": {},
   "outputs": [
    {
     "data": {
      "text/html": [
       "<div>\n",
       "<style scoped>\n",
       "    .dataframe tbody tr th:only-of-type {\n",
       "        vertical-align: middle;\n",
       "    }\n",
       "\n",
       "    .dataframe tbody tr th {\n",
       "        vertical-align: top;\n",
       "    }\n",
       "\n",
       "    .dataframe thead th {\n",
       "        text-align: right;\n",
       "    }\n",
       "</style>\n",
       "<table border=\"1\" class=\"dataframe\">\n",
       "  <thead>\n",
       "    <tr style=\"text-align: right;\">\n",
       "      <th></th>\n",
       "      <th>genres</th>\n",
       "      <th>rating_median</th>\n",
       "      <th>rating_mean</th>\n",
       "    </tr>\n",
       "  </thead>\n",
       "  <tbody>\n",
       "    <tr>\n",
       "      <th>4</th>\n",
       "      <td>Adventure;Brain Games</td>\n",
       "      <td>4.6</td>\n",
       "      <td>4.600000</td>\n",
       "    </tr>\n",
       "    <tr>\n",
       "      <th>11</th>\n",
       "      <td>Art &amp; Design;Creativity</td>\n",
       "      <td>4.7</td>\n",
       "      <td>4.400000</td>\n",
       "    </tr>\n",
       "    <tr>\n",
       "      <th>18</th>\n",
       "      <td>Board;Pretend Play</td>\n",
       "      <td>4.8</td>\n",
       "      <td>4.800000</td>\n",
       "    </tr>\n",
       "    <tr>\n",
       "      <th>35</th>\n",
       "      <td>Comics;Creativity</td>\n",
       "      <td>4.8</td>\n",
       "      <td>4.800000</td>\n",
       "    </tr>\n",
       "    <tr>\n",
       "      <th>55</th>\n",
       "      <td>Entertainment;Creativity</td>\n",
       "      <td>4.6</td>\n",
       "      <td>4.533333</td>\n",
       "    </tr>\n",
       "    <tr>\n",
       "      <th>64</th>\n",
       "      <td>Health &amp; Fitness;Education</td>\n",
       "      <td>4.7</td>\n",
       "      <td>4.700000</td>\n",
       "    </tr>\n",
       "    <tr>\n",
       "      <th>74</th>\n",
       "      <td>Music;Music &amp; Video</td>\n",
       "      <td>4.6</td>\n",
       "      <td>4.533333</td>\n",
       "    </tr>\n",
       "    <tr>\n",
       "      <th>87</th>\n",
       "      <td>Puzzle;Education</td>\n",
       "      <td>4.6</td>\n",
       "      <td>4.600000</td>\n",
       "    </tr>\n",
       "    <tr>\n",
       "      <th>105</th>\n",
       "      <td>Strategy;Action &amp; Adventure</td>\n",
       "      <td>4.6</td>\n",
       "      <td>4.600000</td>\n",
       "    </tr>\n",
       "  </tbody>\n",
       "</table>\n",
       "</div>"
      ],
      "text/plain": [
       "                          genres  rating_median  rating_mean\n",
       "4          Adventure;Brain Games            4.6     4.600000\n",
       "11       Art & Design;Creativity            4.7     4.400000\n",
       "18            Board;Pretend Play            4.8     4.800000\n",
       "35             Comics;Creativity            4.8     4.800000\n",
       "55      Entertainment;Creativity            4.6     4.533333\n",
       "64    Health & Fitness;Education            4.7     4.700000\n",
       "74           Music;Music & Video            4.6     4.533333\n",
       "87              Puzzle;Education            4.6     4.600000\n",
       "105  Strategy;Action & Adventure            4.6     4.600000"
      ]
     },
     "execution_count": 14,
     "metadata": {},
     "output_type": "execute_result"
    }
   ],
   "source": [
    "grouped_df.query('rating_median > 4.5')"
   ]
  },
  {
   "attachments": {},
   "cell_type": "markdown",
   "metadata": {},
   "source": [
    "Аналогичный вывод написал выше. "
   ]
  },
  {
   "attachments": {},
   "cell_type": "markdown",
   "metadata": {},
   "source": [
    "11. Выведете кол-во дубликатов в основном DataFrame (df) и удалите их "
   ]
  },
  {
   "cell_type": "code",
   "execution_count": 15,
   "metadata": {},
   "outputs": [
    {
     "name": "stdout",
     "output_type": "stream",
     "text": [
      "Количество дубликатов: 483\n"
     ]
    }
   ],
   "source": [
    "# определение дубликатов\n",
    "duplicates = df.duplicated()\n",
    "\n",
    "# вывод количества дубликатов\n",
    "print('Количество дубликатов:', duplicates.sum())\n",
    "\n",
    "# удаление дубликатов\n",
    "df.drop_duplicates(inplace=True)"
   ]
  },
  {
   "attachments": {},
   "cell_type": "markdown",
   "metadata": {},
   "source": [
    "12. Посчитатайте какое количество игр содержится в каждом жанре (value_counts). Выведите на экран топ-10 игр по количеству в жанре. Напишите краткий вывод."
   ]
  },
  {
   "cell_type": "code",
   "execution_count": 16,
   "metadata": {},
   "outputs": [
    {
     "name": "stdout",
     "output_type": "stream",
     "text": [
      "Топ-10 игр по количеству в жанре\n"
     ]
    },
    {
     "data": {
      "text/plain": [
       "Tools              840\n",
       "Entertainment      587\n",
       "Education          526\n",
       "Business           427\n",
       "Medical            408\n",
       "Productivity       407\n",
       "Personalization    386\n",
       "Lifestyle          372\n",
       "Communication      366\n",
       "Sports             364\n",
       "Name: genres, dtype: int64"
      ]
     },
     "execution_count": 16,
     "metadata": {},
     "output_type": "execute_result"
    }
   ],
   "source": [
    "genres_counts = df.genres.value_counts()\n",
    "\n",
    "print('Топ-10 приложений по количеству в жанре')\n",
    "genres_counts.head(10)"
   ]
  },
  {
   "attachments": {},
   "cell_type": "markdown",
   "metadata": {},
   "source": [
    "Разработчики пилят всякие тулзы и приложения для развлечений, но ни одна из этих категорий не попала в выборку по рейтингу.  "
   ]
  }
 ],
 "metadata": {
  "kernelspec": {
   "display_name": "Python 3",
   "language": "python",
   "name": "python3"
  },
  "language_info": {
   "codemirror_mode": {
    "name": "ipython",
    "version": 3
   },
   "file_extension": ".py",
   "mimetype": "text/x-python",
   "name": "python",
   "nbconvert_exporter": "python",
   "pygments_lexer": "ipython3",
   "version": "3.9.16"
  },
  "orig_nbformat": 4
 },
 "nbformat": 4,
 "nbformat_minor": 2
}
