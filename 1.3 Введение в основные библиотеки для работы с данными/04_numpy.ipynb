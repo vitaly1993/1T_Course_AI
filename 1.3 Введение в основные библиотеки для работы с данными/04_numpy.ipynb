{
 "cells": [
  {
   "attachments": {},
   "cell_type": "markdown",
   "id": "ea43fe42-bbbc-4529-bf68-0e563a20d43e",
   "metadata": {},
   "source": [
    "# Numpy"
   ]
  },
  {
   "attachments": {},
   "cell_type": "markdown",
   "id": "49f17a48-76a5-4a03-8b13-bfab6ff93514",
   "metadata": {},
   "source": [
    "Для работы с массивами и математическими операциями в Python есть библиотека NumPy"
   ]
  },
  {
   "cell_type": "code",
   "execution_count": 3,
   "id": "b590b35e-0e9d-44f5-be40-6efcd936a3f3",
   "metadata": {},
   "outputs": [
    {
     "name": "stdout",
     "output_type": "stream",
     "text": [
      "Looking in indexes: https://pypi.org/simple, https://pypi.ngc.nvidia.com\n",
      "Requirement already satisfied: numpy in c:\\users\\vital\\anaconda3\\envs\\test_work\\lib\\site-packages (1.24.3)\n"
     ]
    }
   ],
   "source": [
    "# установка numpy\n",
    "\n",
    "#!pip install numpy\n",
    "\n",
    "# если библиотека была установлена, можно обновить \n",
    "\n",
    "!pip install --upgrade numpy"
   ]
  },
  {
   "attachments": {},
   "cell_type": "markdown",
   "id": "b71b772c-50ea-416d-b7ec-57393f434b8d",
   "metadata": {},
   "source": [
    "Это библиотека языка Python для работы с массивами и матрицами. Он создан для эффективной работы с многомерными массивами и имеет множество функций для выполнения различных математических операций, таких как матричные операции, статистические операции и т.д. с полиномами, линейной алгеброй и многомерными матрицами (тензорами). \n",
    "\n",
    "Библиотека NumPy содержит структуры данных многомерных массивов и матриц. Она предоставляет ndarray, однородный объект n-мерного массива, с методами для эффективной работы с ним. NumPy можно использовать для выполнения широкого спектра математических операций над массивами. Он добавляет в Python мощные структуры данных, которые гарантируют эффективные вычисления с массивами и матрицами, и предоставляет огромную библиотеку математических функций высокого уровня, которые работают с этими массивами и матрицами.\n",
    "\n",
    "Причем многие операции выполняются в скомпилированном коде для повышения производительности. "
   ]
  },
  {
   "cell_type": "code",
   "execution_count": 4,
   "id": "55c44f40-07aa-4694-beee-630ffca8ca48",
   "metadata": {
    "tags": []
   },
   "outputs": [],
   "source": [
    "# обычно импортируется так с привязкой к короткому имени np\n",
    "\n",
    "import numpy as np"
   ]
  },
  {
   "attachments": {},
   "cell_type": "markdown",
   "id": "52bfac18-07b5-4736-add2-a0ee308c14d6",
   "metadata": {},
   "source": [
    "## Создание массивов"
   ]
  },
  {
   "attachments": {},
   "cell_type": "markdown",
   "id": "43aae778-56dc-4995-98a5-715c977a76bb",
   "metadata": {},
   "source": [
    "Array - это центральная структура данных библиотеки NumPy. Array представляет собой сетку значений и содержит информацию об исходных данных, о том, как найти элемент и как интерпретировать элемент. Он имеет сетку элементов, которые могут быть проиндексированы различными способами. Все элементы имеют один и тот же тип, называемый dtype массива.\n",
    "\n",
    "- **Array** может быть проиндексирован кортежем неотрицательных целых чисел, булевыми числами, другим массивом или целыми числами. \n",
    "- **Rank массива** - это количество измерений. \n",
    "- **Shape массива** - это кортеж целых чисел, задающий размер массива по каждому измерению.\n",
    "\n",
    "Один из способов инициализации массивов NumPy - из списков Python."
   ]
  },
  {
   "cell_type": "code",
   "execution_count": 5,
   "id": "3f7f8001-3032-4f04-8cc8-20a837e181af",
   "metadata": {
    "tags": []
   },
   "outputs": [
    {
     "data": {
      "text/plain": [
       "array([1, 2, 3])"
      ]
     },
     "execution_count": 5,
     "metadata": {},
     "output_type": "execute_result"
    }
   ],
   "source": [
    "a = np.array([1, 2, 3])               # одномерный массив\n",
    "a"
   ]
  },
  {
   "cell_type": "code",
   "execution_count": 6,
   "id": "c10d1c6c-02ea-4100-bed6-0f233c4b8d2a",
   "metadata": {
    "tags": []
   },
   "outputs": [
    {
     "data": {
      "text/plain": [
       "array([[1, 2, 3],\n",
       "       [4, 5, 6]])"
      ]
     },
     "execution_count": 6,
     "metadata": {},
     "output_type": "execute_result"
    }
   ],
   "source": [
    "b = np.array([(1, 2, 3), (4, 5, 6)])  # двумерный массив\n",
    "b"
   ]
  },
  {
   "cell_type": "code",
   "execution_count": 4,
   "id": "47f92f5a-0596-4419-a8a2-9b94ce6f150c",
   "metadata": {
    "tags": []
   },
   "outputs": [
    {
     "data": {
      "text/plain": [
       "array([[0., 0., 0., 0.],\n",
       "       [0., 0., 0., 0.],\n",
       "       [0., 0., 0., 0.]])"
      ]
     },
     "execution_count": 4,
     "metadata": {},
     "output_type": "execute_result"
    }
   ],
   "source": [
    "c = np.zeros((3, 4))                  # массив заполненный нулями размером 3 на 4\n",
    "c"
   ]
  },
  {
   "cell_type": "code",
   "execution_count": 6,
   "id": "e9859536-51e1-4d12-8b9e-9993a257eceb",
   "metadata": {
    "tags": []
   },
   "outputs": [
    {
     "data": {
      "text/plain": [
       "array([[[1., 1., 1., 1.],\n",
       "        [1., 1., 1., 1.],\n",
       "        [1., 1., 1., 1.]],\n",
       "\n",
       "       [[1., 1., 1., 1.],\n",
       "        [1., 1., 1., 1.],\n",
       "        [1., 1., 1., 1.]]])"
      ]
     },
     "execution_count": 6,
     "metadata": {},
     "output_type": "execute_result"
    }
   ],
   "source": [
    "d = np.ones((2,3,4))   # массив заполненный единицами размером 2 на 3 на 4\n",
    "d"
   ]
  },
  {
   "cell_type": "code",
   "execution_count": 7,
   "id": "53784920-227b-480d-821c-663ce239a807",
   "metadata": {
    "tags": []
   },
   "outputs": [
    {
     "data": {
      "text/plain": [
       "3"
      ]
     },
     "execution_count": 7,
     "metadata": {},
     "output_type": "execute_result"
    }
   ],
   "source": [
    "d.ndim"
   ]
  },
  {
   "attachments": {},
   "cell_type": "markdown",
   "id": "1967e027-b553-4832-910f-b5df0445bd1a",
   "metadata": {},
   "source": [
    "Функция `empty` создает массив, начальное содержимое которого случайно и зависит от состояния памяти. Причиной использования `empty` вместо нулей (или чего-то подобного) является скорость - просто нужно не забыть добавить элементы после этого"
   ]
  },
  {
   "cell_type": "code",
   "execution_count": 7,
   "id": "4be74412-615c-41de-82f1-3d6ea6287727",
   "metadata": {
    "tags": []
   },
   "outputs": [
    {
     "data": {
      "text/plain": [
       "array([-3.91708872e-229,  1.56552850e-244])"
      ]
     },
     "execution_count": 7,
     "metadata": {},
     "output_type": "execute_result"
    }
   ],
   "source": [
    "np.empty(2)"
   ]
  },
  {
   "attachments": {},
   "cell_type": "markdown",
   "id": "518cf166-fa76-4685-a10e-e11305bcd786",
   "metadata": {},
   "source": [
    "Можно создать массив с диапазоном элементов (как `range`)\n"
   ]
  },
  {
   "cell_type": "code",
   "execution_count": 8,
   "id": "8f63b250-dfee-4dfb-a61c-42b25f3532a5",
   "metadata": {
    "tags": []
   },
   "outputs": [
    {
     "data": {
      "text/plain": [
       "array([0, 1, 2, 3, 4, 5, 6, 7, 8, 9])"
      ]
     },
     "execution_count": 8,
     "metadata": {},
     "output_type": "execute_result"
    }
   ],
   "source": [
    "np.arange(10)"
   ]
  },
  {
   "attachments": {},
   "cell_type": "markdown",
   "id": "a40d01a3-8372-468b-8f12-c1f970d444e0",
   "metadata": {},
   "source": [
    "И даже массив, содержащий диапазон элементов с определенным интервалом. Для этого нужно указать первое число, последнее число и размер шага."
   ]
  },
  {
   "cell_type": "code",
   "execution_count": 9,
   "id": "5d4650b6-dac1-44ae-9047-a66fd50fac50",
   "metadata": {
    "tags": []
   },
   "outputs": [
    {
     "data": {
      "text/plain": [
       "array([0, 2, 4, 6, 8])"
      ]
     },
     "execution_count": 9,
     "metadata": {},
     "output_type": "execute_result"
    }
   ],
   "source": [
    "np.arange(0, 10, 2)"
   ]
  },
  {
   "attachments": {},
   "cell_type": "markdown",
   "id": "2a820935-ab9f-480a-b605-cb6280f909e0",
   "metadata": {},
   "source": [
    "Можно еще создать массив со значениями, линейно распределенными в заданном интервале:"
   ]
  },
  {
   "cell_type": "code",
   "execution_count": 10,
   "id": "09bc1cfd-0cf2-4d79-8497-7594313a6ca2",
   "metadata": {
    "tags": []
   },
   "outputs": [
    {
     "data": {
      "text/plain": [
       "array([ 0.        ,  0.52631579,  1.05263158,  1.57894737,  2.10526316,\n",
       "        2.63157895,  3.15789474,  3.68421053,  4.21052632,  4.73684211,\n",
       "        5.26315789,  5.78947368,  6.31578947,  6.84210526,  7.36842105,\n",
       "        7.89473684,  8.42105263,  8.94736842,  9.47368421, 10.        ])"
      ]
     },
     "execution_count": 10,
     "metadata": {},
     "output_type": "execute_result"
    }
   ],
   "source": [
    "np.linspace(0, 10, 20)"
   ]
  },
  {
   "attachments": {},
   "cell_type": "markdown",
   "id": "cf050687-f3bc-4b95-991d-1c7e74e7e732",
   "metadata": {},
   "source": [
    "Также можно указать тип данных\n",
    "\n",
    "Хотя типом данных по умолчанию является `np.float64`, можно указать необходимый тип данных, используя ключевое слово dtype."
   ]
  },
  {
   "cell_type": "code",
   "execution_count": 11,
   "id": "aa3c82e5-f6d2-4d27-b71a-b11e7bc33371",
   "metadata": {
    "tags": []
   },
   "outputs": [
    {
     "data": {
      "text/plain": [
       "array([1, 1], dtype=int64)"
      ]
     },
     "execution_count": 11,
     "metadata": {},
     "output_type": "execute_result"
    }
   ],
   "source": [
    "np.ones(2, dtype=np.int64)"
   ]
  },
  {
   "attachments": {},
   "cell_type": "markdown",
   "id": "4b2a561a-a84c-4c72-8af1-3ac4db6e584e",
   "metadata": {},
   "source": [
    "## Cортировка элементов"
   ]
  },
  {
   "attachments": {},
   "cell_type": "markdown",
   "id": "7c323b60-de08-46e8-b9d4-39fa5acb818b",
   "metadata": {},
   "source": [
    "Сортировка элемента осуществляется с помощью `np.sort()`. При вызове функции можно указать ось, вид и порядок.\n",
    "\n",
    "Создадим элемент и перемешаем его с помощью `shuffle`"
   ]
  },
  {
   "cell_type": "code",
   "execution_count": 14,
   "id": "06dcb41c-d92c-4bc7-a0e7-df76deb22be4",
   "metadata": {
    "tags": []
   },
   "outputs": [
    {
     "data": {
      "text/plain": [
       "array([6, 7, 0, 4, 2, 9, 5, 3, 1, 8])"
      ]
     },
     "execution_count": 14,
     "metadata": {},
     "output_type": "execute_result"
    }
   ],
   "source": [
    "arr = np.arange(0, 10, 1)\n",
    "np.random.shuffle(arr) \n",
    "arr"
   ]
  },
  {
   "attachments": {},
   "cell_type": "markdown",
   "id": "f6ca1f16-ba09-4971-aad3-560df33ee081",
   "metadata": {},
   "source": [
    "Можно быстро отсортировать числа в порядке возрастания с помощью:"
   ]
  },
  {
   "cell_type": "code",
   "execution_count": 15,
   "id": "820e45fd-8024-4e20-acc1-80d6304b1cb4",
   "metadata": {
    "tags": []
   },
   "outputs": [
    {
     "data": {
      "text/plain": [
       "array([0, 1, 2, 3, 4, 5, 6, 7, 8, 9])"
      ]
     },
     "execution_count": 15,
     "metadata": {},
     "output_type": "execute_result"
    }
   ],
   "source": [
    "np.sort(arr)"
   ]
  },
  {
   "attachments": {},
   "cell_type": "markdown",
   "id": "148f3282-f65e-44aa-9e59-ce9e02bdab36",
   "metadata": {},
   "source": [
    "- `argsort` - возвращает индексы, которые будут сортировать массив.\n",
    "- `lexsort` - cортировка по нескольким массивам"
   ]
  },
  {
   "cell_type": "code",
   "execution_count": 16,
   "id": "d64679c1-278d-4600-a293-54377bed0554",
   "metadata": {
    "tags": []
   },
   "outputs": [
    {
     "data": {
      "text/plain": [
       "array([2, 8, 4, 7, 3, 6, 0, 1, 9, 5], dtype=int64)"
      ]
     },
     "execution_count": 16,
     "metadata": {},
     "output_type": "execute_result"
    }
   ],
   "source": [
    "np.argsort(arr)"
   ]
  },
  {
   "cell_type": "code",
   "execution_count": 17,
   "id": "f590ff53-c44e-439d-b997-0f7388b01d47",
   "metadata": {
    "tags": []
   },
   "outputs": [
    {
     "data": {
      "text/plain": [
       "array([0, 1, 2, 3, 4, 5, 6, 7, 8, 9])"
      ]
     },
     "execution_count": 17,
     "metadata": {},
     "output_type": "execute_result"
    }
   ],
   "source": [
    "arr[np.argsort(arr)]"
   ]
  },
  {
   "cell_type": "code",
   "execution_count": 21,
   "id": "655f19f4-1d9c-433d-b482-c38bd2fdf8fb",
   "metadata": {
    "tags": []
   },
   "outputs": [
    {
     "name": "stdout",
     "output_type": "stream",
     "text": [
      "Сортированные индексы: [3 0 1 2]\n",
      "Сортированный массив:\n",
      " [['Андрей' '21' '3.7']\n",
      " ['Алиса' '25' '4.5']\n",
      " ['Евгений' '30' '4.0']\n",
      " ['Владимир' '31' '4.2']]\n"
     ]
    }
   ],
   "source": [
    "data = np.array([['Алиса', 25, 4.5],\n",
    "                 ['Евгений', 30, 4.0],\n",
    "                 ['Владимир', 31, 4.2],\n",
    "                 ['Андрей', 21, 3.7]])\n",
    "\n",
    "# Сортировка по двум признакам: имени и возрасту\n",
    "indices = np.lexsort((data[:, 0], data[:, 1]))\n",
    "print('Сортированные индексы:', indices)\n",
    "print('Сортированный массив:\\n', data[indices])"
   ]
  },
  {
   "attachments": {},
   "cell_type": "markdown",
   "id": "de4fbf62-93b9-4f4d-8383-d2f4b4a91055",
   "metadata": {},
   "source": [
    "## Конкатенация"
   ]
  },
  {
   "attachments": {},
   "cell_type": "markdown",
   "id": "0956230f-e23c-49e5-8d93-9a9c769ffd8f",
   "metadata": {},
   "source": [
    "Объединить столбцы можно с помощью `np.concatenate()`"
   ]
  },
  {
   "cell_type": "code",
   "execution_count": 23,
   "id": "7794e736-84e2-4b20-a406-20515f4f63ff",
   "metadata": {
    "tags": []
   },
   "outputs": [
    {
     "data": {
      "text/plain": [
       "array([1, 2, 3, 4, 5, 6, 7, 8])"
      ]
     },
     "execution_count": 23,
     "metadata": {},
     "output_type": "execute_result"
    }
   ],
   "source": [
    "a = np.array([1, 2, 3, 4])\n",
    "b = np.array([5, 6, 7, 8])\n",
    "np.concatenate((a, b))"
   ]
  },
  {
   "cell_type": "code",
   "execution_count": 25,
   "id": "aa369215-7b27-402c-88e9-84b9b8e8d6d0",
   "metadata": {
    "tags": []
   },
   "outputs": [
    {
     "data": {
      "text/plain": [
       "2"
      ]
     },
     "execution_count": 25,
     "metadata": {},
     "output_type": "execute_result"
    }
   ],
   "source": [
    "x = np.array([[1, 2], [3, 4]])\n",
    "y = np.array([[5, 6]])\n",
    "np.concatenate((x, y), axis=0).ndim"
   ]
  },
  {
   "attachments": {},
   "cell_type": "markdown",
   "id": "245fec93-82e5-4a53-8779-be586d2e37dc",
   "metadata": {},
   "source": [
    "## Shape, size"
   ]
  },
  {
   "attachments": {},
   "cell_type": "markdown",
   "id": "b91599d8-71ad-40bb-aa7f-7dfbeeef1c03",
   "metadata": {},
   "source": [
    "- `ndarray.ndim` отображает количество осей, или размеров массива.\n",
    "- `ndarray.size` отображает общее количество элементов массива. Это произведение всего shape.\n",
    "- `ndarray.shape` отображает количество элементов, хранящихся вдоль каждого измерения массива. Если, например, двумерный массив с 2 строками и 3 столбцами, то форма вашего массива будет (2, 3)."
   ]
  },
  {
   "cell_type": "code",
   "execution_count": 22,
   "id": "c12e1a05-d83e-4063-a3cc-e7e0cadfc5bc",
   "metadata": {
    "tags": []
   },
   "outputs": [],
   "source": [
    "array_example = np.array([[[0, 1, 2, 3],\n",
    "                           [4, 5, 6, 7]],\n",
    "                          [[0, 1, 2, 3],\n",
    "                           [4, 5, 6, 7]],\n",
    "                          [[0 ,1 ,2, 3],\n",
    "                           [4, 5, 6, 7]]])"
   ]
  },
  {
   "cell_type": "code",
   "execution_count": 23,
   "id": "f852ec10-c308-4533-8ce8-adcb4750d739",
   "metadata": {
    "tags": []
   },
   "outputs": [
    {
     "data": {
      "text/plain": [
       "3"
      ]
     },
     "execution_count": 23,
     "metadata": {},
     "output_type": "execute_result"
    }
   ],
   "source": [
    "array_example.ndim"
   ]
  },
  {
   "cell_type": "code",
   "execution_count": 24,
   "id": "47f6700f-8bef-4573-ad1b-9027b9339d51",
   "metadata": {
    "tags": []
   },
   "outputs": [
    {
     "data": {
      "text/plain": [
       "24"
      ]
     },
     "execution_count": 24,
     "metadata": {},
     "output_type": "execute_result"
    }
   ],
   "source": [
    "array_example.size"
   ]
  },
  {
   "cell_type": "code",
   "execution_count": 25,
   "id": "ce9ab1ee-aaeb-4fd4-a499-9613c5ef09cc",
   "metadata": {
    "tags": []
   },
   "outputs": [
    {
     "data": {
      "text/plain": [
       "(3, 2, 4)"
      ]
     },
     "execution_count": 25,
     "metadata": {},
     "output_type": "execute_result"
    }
   ],
   "source": [
    "array_example.shape"
   ]
  },
  {
   "attachments": {},
   "cell_type": "markdown",
   "id": "2772d26f-5a6f-475e-afc9-36dfb07a2532",
   "metadata": {},
   "source": [
    "## Как преобразовать одномерный массив в двумерный массив"
   ]
  },
  {
   "attachments": {},
   "cell_type": "markdown",
   "id": "3d120f31-4653-4454-bc0e-16588bb78ae3",
   "metadata": {},
   "source": [
    "Можно использовать `np.newaxis` и `np.expand_dims` для увеличения размеров существующего массива.\n",
    "\n",
    "При однократном использовании `np.newaxis` размеры массива увеличиваются на одно измерение. Это означает, что одномерный массив станет двумерным, двумерный массив станет трехмерным и так далее."
   ]
  },
  {
   "cell_type": "code",
   "execution_count": 26,
   "id": "6916a25f-57da-4b70-bb2e-7b1b708a1387",
   "metadata": {
    "tags": []
   },
   "outputs": [
    {
     "data": {
      "text/plain": [
       "(6,)"
      ]
     },
     "execution_count": 26,
     "metadata": {},
     "output_type": "execute_result"
    }
   ],
   "source": [
    "a = np.array([1, 2, 3, 4, 5, 6])\n",
    "a.shape"
   ]
  },
  {
   "cell_type": "code",
   "execution_count": 27,
   "id": "b78b6ee6-d547-4aca-bf21-fab6c0c9a680",
   "metadata": {
    "tags": []
   },
   "outputs": [
    {
     "data": {
      "text/plain": [
       "1"
      ]
     },
     "execution_count": 27,
     "metadata": {},
     "output_type": "execute_result"
    }
   ],
   "source": [
    "a.ndim"
   ]
  },
  {
   "cell_type": "code",
   "execution_count": 28,
   "id": "a4a0f5f3-8839-43c9-ac03-504b4f94d6b2",
   "metadata": {
    "tags": []
   },
   "outputs": [
    {
     "data": {
      "text/plain": [
       "array([[1, 2, 3, 4, 5, 6]])"
      ]
     },
     "execution_count": 28,
     "metadata": {},
     "output_type": "execute_result"
    }
   ],
   "source": [
    "a2 = a[np.newaxis, :]\n",
    "a2"
   ]
  },
  {
   "cell_type": "code",
   "execution_count": 29,
   "id": "fb172282-7ae1-40f6-adf7-edf100aabd15",
   "metadata": {
    "tags": []
   },
   "outputs": [
    {
     "data": {
      "text/plain": [
       "2"
      ]
     },
     "execution_count": 29,
     "metadata": {},
     "output_type": "execute_result"
    }
   ],
   "source": [
    "a2.ndim"
   ]
  },
  {
   "cell_type": "code",
   "execution_count": 30,
   "id": "3813451a-1026-4f04-b6de-1d253a708bcf",
   "metadata": {
    "tags": []
   },
   "outputs": [
    {
     "data": {
      "text/plain": [
       "array([[1],\n",
       "       [2],\n",
       "       [3],\n",
       "       [4],\n",
       "       [5],\n",
       "       [6]])"
      ]
     },
     "execution_count": 30,
     "metadata": {},
     "output_type": "execute_result"
    }
   ],
   "source": [
    "col_vector = a[:, np.newaxis]\n",
    "col_vector"
   ]
  },
  {
   "attachments": {},
   "cell_type": "markdown",
   "id": "8d50f139-6d4e-45d3-831d-68ab9aa9c403",
   "metadata": {},
   "source": [
    "## Reshape"
   ]
  },
  {
   "attachments": {},
   "cell_type": "markdown",
   "id": "336fac86-76cd-4ef7-8a08-62a503616113",
   "metadata": {},
   "source": [
    "Массивы `numpy` также можно переформатировать, сделав `reshape`. Рассмотрим пример:"
   ]
  },
  {
   "cell_type": "code",
   "execution_count": 31,
   "id": "d5ccfa63-bca2-465d-8f19-3f3e5aa5d306",
   "metadata": {
    "tags": []
   },
   "outputs": [
    {
     "data": {
      "text/plain": [
       "array([0, 1, 2, 3, 4, 5])"
      ]
     },
     "execution_count": 31,
     "metadata": {},
     "output_type": "execute_result"
    }
   ],
   "source": [
    "a = np.arange(6)\n",
    "a"
   ]
  },
  {
   "cell_type": "code",
   "execution_count": 32,
   "id": "8c7d0a1d-df3e-42fa-b756-88614c52e9c3",
   "metadata": {
    "tags": []
   },
   "outputs": [
    {
     "data": {
      "text/plain": [
       "array([[0, 1],\n",
       "       [2, 3],\n",
       "       [4, 5]])"
      ]
     },
     "execution_count": 32,
     "metadata": {},
     "output_type": "execute_result"
    }
   ],
   "source": [
    "a.reshape(3, 2)"
   ]
  },
  {
   "cell_type": "code",
   "execution_count": 36,
   "id": "fabbf145-f45d-430f-a895-3ef7c5def254",
   "metadata": {
    "tags": []
   },
   "outputs": [
    {
     "data": {
      "text/plain": [
       "array([[0, 1, 2],\n",
       "       [3, 4, 5]])"
      ]
     },
     "execution_count": 36,
     "metadata": {},
     "output_type": "execute_result"
    }
   ],
   "source": [
    "a.reshape(2, 3)"
   ]
  },
  {
   "cell_type": "code",
   "execution_count": 34,
   "id": "5a2a857e-a7bc-4c9a-a2b3-b5016425474d",
   "metadata": {
    "tags": []
   },
   "outputs": [
    {
     "data": {
      "text/plain": [
       "array([[0],\n",
       "       [1],\n",
       "       [2],\n",
       "       [3],\n",
       "       [4],\n",
       "       [5]])"
      ]
     },
     "execution_count": 34,
     "metadata": {},
     "output_type": "execute_result"
    }
   ],
   "source": [
    "a.reshape(6, 1)"
   ]
  },
  {
   "attachments": {},
   "cell_type": "markdown",
   "id": "f07d3059-4641-4b6f-ad98-58df90f422bc",
   "metadata": {},
   "source": [
    "## Индексирование и срезы массивов"
   ]
  },
  {
   "attachments": {},
   "cell_type": "markdown",
   "id": "e7a506f1-9c81-4120-8702-6c7daae82568",
   "metadata": {},
   "source": [
    "Можно индексировать и выводить срезы NumPy теми же способами, что и списки Python."
   ]
  },
  {
   "cell_type": "code",
   "execution_count": 27,
   "id": "e3c9419e-a1f8-4235-9d0e-1cb153bb3c28",
   "metadata": {
    "tags": []
   },
   "outputs": [],
   "source": [
    "data = np.array([[1, 2, 3], [4, 5, 6]])"
   ]
  },
  {
   "cell_type": "code",
   "execution_count": 28,
   "id": "7213455f-4378-42a5-9167-6832dbcc50e5",
   "metadata": {
    "tags": []
   },
   "outputs": [
    {
     "data": {
      "text/plain": [
       "2"
      ]
     },
     "execution_count": 28,
     "metadata": {},
     "output_type": "execute_result"
    }
   ],
   "source": [
    "data.ndim"
   ]
  },
  {
   "cell_type": "code",
   "execution_count": 29,
   "id": "fc5bda0a-8a9c-48b1-9b72-c04b99f05c64",
   "metadata": {
    "tags": []
   },
   "outputs": [
    {
     "data": {
      "text/plain": [
       "array([4, 5, 6])"
      ]
     },
     "execution_count": 29,
     "metadata": {},
     "output_type": "execute_result"
    }
   ],
   "source": [
    "data[1]"
   ]
  },
  {
   "cell_type": "code",
   "execution_count": 30,
   "id": "509a2418-3902-4c33-80bf-0db06e146d81",
   "metadata": {
    "tags": []
   },
   "outputs": [
    {
     "data": {
      "text/plain": [
       "array([[1, 2, 3]])"
      ]
     },
     "execution_count": 30,
     "metadata": {},
     "output_type": "execute_result"
    }
   ],
   "source": [
    "data[0:1]"
   ]
  },
  {
   "cell_type": "code",
   "execution_count": 31,
   "id": "5c25b447-1ceb-43df-bba7-eb15f54551f0",
   "metadata": {
    "tags": []
   },
   "outputs": [
    {
     "data": {
      "text/plain": [
       "array([[4, 5, 6]])"
      ]
     },
     "execution_count": 31,
     "metadata": {},
     "output_type": "execute_result"
    }
   ],
   "source": [
    "data[1:]"
   ]
  },
  {
   "cell_type": "code",
   "execution_count": 32,
   "id": "1e41193d-46bc-43fb-9da5-d930ad92e287",
   "metadata": {
    "tags": []
   },
   "outputs": [
    {
     "data": {
      "text/plain": [
       "array([[4, 5, 6]])"
      ]
     },
     "execution_count": 32,
     "metadata": {},
     "output_type": "execute_result"
    }
   ],
   "source": [
    "data[-1:]"
   ]
  },
  {
   "cell_type": "code",
   "execution_count": 33,
   "id": "ce259827-054f-40f6-943a-280c7ab625af",
   "metadata": {
    "tags": []
   },
   "outputs": [
    {
     "data": {
      "text/plain": [
       "3"
      ]
     },
     "execution_count": 33,
     "metadata": {},
     "output_type": "execute_result"
    }
   ],
   "source": [
    "data[0][2]"
   ]
  },
  {
   "cell_type": "code",
   "execution_count": 34,
   "id": "c6f2dc10-80f4-4381-aff4-0ab5a6c79e21",
   "metadata": {
    "tags": []
   },
   "outputs": [
    {
     "data": {
      "text/plain": [
       "array([1, 4])"
      ]
     },
     "execution_count": 34,
     "metadata": {},
     "output_type": "execute_result"
    }
   ],
   "source": [
    "data[:, 0]"
   ]
  },
  {
   "cell_type": "code",
   "execution_count": 35,
   "id": "af755398-2a0d-4954-bfac-985236727d2f",
   "metadata": {
    "tags": []
   },
   "outputs": [
    {
     "data": {
      "text/plain": [
       "array([3])"
      ]
     },
     "execution_count": 35,
     "metadata": {},
     "output_type": "execute_result"
    }
   ],
   "source": [
    "data[0, -1:]"
   ]
  },
  {
   "attachments": {},
   "cell_type": "markdown",
   "id": "5cf51a76-6e80-4981-b57d-a0a6281e1a9e",
   "metadata": {},
   "source": [
    "Можно выделить значения из массива, удовлетворяющих условию"
   ]
  },
  {
   "cell_type": "code",
   "execution_count": 36,
   "id": "2489704a-a5be-464f-b209-dce44d35b029",
   "metadata": {
    "tags": []
   },
   "outputs": [
    {
     "data": {
      "text/plain": [
       "array([6])"
      ]
     },
     "execution_count": 36,
     "metadata": {},
     "output_type": "execute_result"
    }
   ],
   "source": [
    "data[data > 5]"
   ]
  },
  {
   "attachments": {},
   "cell_type": "markdown",
   "id": "f269148b-051c-427a-8e12-02096a9f353b",
   "metadata": {},
   "source": [
    "И также, создав заранее условие (булева маска):"
   ]
  },
  {
   "cell_type": "code",
   "execution_count": 37,
   "id": "73cea9b8-2ea6-441e-8f6c-846d000f4ebf",
   "metadata": {
    "tags": []
   },
   "outputs": [
    {
     "data": {
      "text/plain": [
       "array([5, 6])"
      ]
     },
     "execution_count": 37,
     "metadata": {},
     "output_type": "execute_result"
    }
   ],
   "source": [
    "five_up = (data >= 5)\n",
    "data[five_up]"
   ]
  },
  {
   "attachments": {},
   "cell_type": "markdown",
   "id": "f5042f6e-c4c7-4311-ad28-5bd5964001f4",
   "metadata": {},
   "source": [
    "Или можно выбрать элементы, удовлетворяющие двум условиям, используя операторы `&` и `|`:"
   ]
  },
  {
   "cell_type": "code",
   "execution_count": 38,
   "id": "db60d4ab-491c-45ee-9022-39e393caa000",
   "metadata": {
    "tags": []
   },
   "outputs": [
    {
     "data": {
      "text/plain": [
       "array([1, 5, 6])"
      ]
     },
     "execution_count": 38,
     "metadata": {},
     "output_type": "execute_result"
    }
   ],
   "source": [
    "data[(data < 2) | five_up]"
   ]
  },
  {
   "attachments": {},
   "cell_type": "markdown",
   "id": "072e13dc-b880-4b88-870d-57c40049786e",
   "metadata": {},
   "source": [
    "## Как создать массив из существующих данных"
   ]
  },
  {
   "attachments": {},
   "cell_type": "markdown",
   "id": "bdf495b5-dc07-48ea-9aa4-1bd9fefcf063",
   "metadata": {},
   "source": [
    "Можно создать новый массив из среза существующего массива"
   ]
  },
  {
   "cell_type": "code",
   "execution_count": 54,
   "id": "cd4c9609-68f0-430a-94c4-ddbe8b89f07c",
   "metadata": {
    "tags": []
   },
   "outputs": [
    {
     "data": {
      "text/plain": [
       "array([4, 5, 6, 7, 8])"
      ]
     },
     "execution_count": 54,
     "metadata": {},
     "output_type": "execute_result"
    }
   ],
   "source": [
    "a = np.array([1,  2,  3,  4,  5,  6,  7,  8,  9, 10])\n",
    "arr = a[3:8]\n",
    "arr"
   ]
  },
  {
   "attachments": {},
   "cell_type": "markdown",
   "id": "abb0d716-d689-440c-bd16-024a337e6750",
   "metadata": {},
   "source": [
    "Также можно собрать (стакнуть) два существующих массива как вертикально, так и горизонтально."
   ]
  },
  {
   "cell_type": "code",
   "execution_count": 39,
   "id": "4bb65d97-0b38-4f0f-8f8f-7d3c1f5a77fc",
   "metadata": {
    "tags": []
   },
   "outputs": [],
   "source": [
    "a1 = np.array([[1, 1],\n",
    "               [2, 2]])\n",
    "\n",
    "a2 = np.array([[3, 3],\n",
    "               [4, 4]])"
   ]
  },
  {
   "attachments": {},
   "cell_type": "markdown",
   "id": "54d23da5-7fa5-41ca-ab72-bef12a7bc073",
   "metadata": {},
   "source": [
    "Вертикально:"
   ]
  },
  {
   "cell_type": "code",
   "execution_count": 40,
   "id": "1e6cefab-3185-4df8-9415-69e2d3958ccf",
   "metadata": {
    "tags": []
   },
   "outputs": [
    {
     "data": {
      "text/plain": [
       "array([[1, 1],\n",
       "       [2, 2],\n",
       "       [3, 3],\n",
       "       [4, 4]])"
      ]
     },
     "execution_count": 40,
     "metadata": {},
     "output_type": "execute_result"
    }
   ],
   "source": [
    "np.vstack((a1, a2))"
   ]
  },
  {
   "attachments": {},
   "cell_type": "markdown",
   "id": "c0c87302-d8e1-4164-96dd-cb6cadd5fa73",
   "metadata": {},
   "source": [
    "Горизонтально:"
   ]
  },
  {
   "cell_type": "code",
   "execution_count": 41,
   "id": "75f8fd9f-876f-445d-87c6-3a0a64439ab3",
   "metadata": {
    "tags": []
   },
   "outputs": [
    {
     "data": {
      "text/plain": [
       "array([[1, 1, 3, 3],\n",
       "       [2, 2, 4, 4]])"
      ]
     },
     "execution_count": 41,
     "metadata": {},
     "output_type": "execute_result"
    }
   ],
   "source": [
    "np.hstack((a1, a2))"
   ]
  },
  {
   "attachments": {},
   "cell_type": "markdown",
   "id": "35f4eb17-af4a-4e86-8d4e-506026569eb4",
   "metadata": {},
   "source": [
    "## Операции с массивами"
   ]
  },
  {
   "cell_type": "code",
   "execution_count": 42,
   "id": "cfb87795-0070-400f-b1af-cb9eadaa4266",
   "metadata": {
    "tags": []
   },
   "outputs": [],
   "source": [
    "a = np.array([[1, 1],\n",
    "              [2, 2]])\n",
    "\n",
    "b = np.array([[-3, 3],\n",
    "              [-4, 4]])"
   ]
  },
  {
   "cell_type": "code",
   "execution_count": 43,
   "id": "c594cb35-21a9-4140-80aa-d19bc68c2e67",
   "metadata": {},
   "outputs": [
    {
     "data": {
      "text/plain": [
       "array([[-2,  4],\n",
       "       [-2,  6]])"
      ]
     },
     "execution_count": 43,
     "metadata": {},
     "output_type": "execute_result"
    }
   ],
   "source": [
    "a + b              # сумма массивов a и b\n",
    "np.add(a, b)       # альтернативный способ суммирования"
   ]
  },
  {
   "cell_type": "code",
   "execution_count": 44,
   "id": "d3954d0a-d8c2-44b3-a000-412b032e0bcb",
   "metadata": {},
   "outputs": [
    {
     "data": {
      "text/plain": [
       "array([[ 4, -2],\n",
       "       [ 6, -2]])"
      ]
     },
     "execution_count": 44,
     "metadata": {},
     "output_type": "execute_result"
    }
   ],
   "source": [
    "a - b              # разность массивов\n",
    "np.subtract(a, b)  # альтернативный способ нахождения разности"
   ]
  },
  {
   "cell_type": "code",
   "execution_count": 45,
   "id": "b7047605-e0f1-4653-82b8-af64c478ddbd",
   "metadata": {},
   "outputs": [
    {
     "data": {
      "text/plain": [
       "array([[-3,  3],\n",
       "       [-8,  8]])"
      ]
     },
     "execution_count": 45,
     "metadata": {},
     "output_type": "execute_result"
    }
   ],
   "source": [
    "a * b              # поэлементное умножение массивов\n",
    "np.multiply(a, b)  # альтернативный способ умножения"
   ]
  },
  {
   "cell_type": "code",
   "execution_count": 46,
   "id": "cd92cfcb-c4c2-4871-9c4c-b84560d2d2c0",
   "metadata": {},
   "outputs": [
    {
     "data": {
      "text/plain": [
       "array([[-0.33333333,  0.33333333],\n",
       "       [-0.5       ,  0.5       ]])"
      ]
     },
     "execution_count": 46,
     "metadata": {},
     "output_type": "execute_result"
    }
   ],
   "source": [
    "a / b              # поэлементное деление массивов\n",
    "np.divide(a, b)    # альтернативный способ деления"
   ]
  },
  {
   "cell_type": "code",
   "execution_count": 47,
   "id": "fe60b93e-ff08-4bac-bbb2-5277abe85d58",
   "metadata": {},
   "outputs": [
    {
     "data": {
      "text/plain": [
       "array([[1.        , 1.        ],\n",
       "       [1.41421356, 1.41421356]])"
      ]
     },
     "execution_count": 47,
     "metadata": {},
     "output_type": "execute_result"
    }
   ],
   "source": [
    "np.sqrt(a)         # квадратный корень из каждого элемента массива a"
   ]
  },
  {
   "cell_type": "code",
   "execution_count": 48,
   "id": "9d773e8c-7df3-4753-8e20-481b180dc4a6",
   "metadata": {},
   "outputs": [
    {
     "data": {
      "text/plain": [
       "array([[2.71828183, 2.71828183],\n",
       "       [7.3890561 , 7.3890561 ]])"
      ]
     },
     "execution_count": 48,
     "metadata": {},
     "output_type": "execute_result"
    }
   ],
   "source": [
    "np.exp(a)          # экспоненциальная функция каждого элемента массива a"
   ]
  },
  {
   "cell_type": "code",
   "execution_count": 49,
   "id": "cc743689-bb28-4f6b-998f-ed0a4c030c56",
   "metadata": {},
   "outputs": [
    {
     "data": {
      "text/plain": [
       "array([[0.        , 0.        ],\n",
       "       [0.69314718, 0.69314718]])"
      ]
     },
     "execution_count": 49,
     "metadata": {},
     "output_type": "execute_result"
    }
   ],
   "source": [
    "np.log(a)     # натуральный логарифм каждого элемента массива a"
   ]
  },
  {
   "cell_type": "code",
   "execution_count": 50,
   "id": "e825d10e-d9f0-41d1-8246-efa231e42b1f",
   "metadata": {
    "tags": []
   },
   "outputs": [
    {
     "data": {
      "text/plain": [
       "array([[1, 1],\n",
       "       [2, 2]])"
      ]
     },
     "execution_count": 50,
     "metadata": {},
     "output_type": "execute_result"
    }
   ],
   "source": [
    "np.abs(a) # абсолютное значение каждого элемента массива a"
   ]
  },
  {
   "cell_type": "code",
   "execution_count": 51,
   "id": "640d9420-1bf1-4fdc-91cc-033cc3a5ceda",
   "metadata": {
    "tags": []
   },
   "outputs": [
    {
     "data": {
      "text/plain": [
       "2"
      ]
     },
     "execution_count": 51,
     "metadata": {},
     "output_type": "execute_result"
    }
   ],
   "source": [
    "a.max()     # максимальный элемент в массиве a (можно через a.max())"
   ]
  },
  {
   "cell_type": "code",
   "execution_count": 52,
   "id": "8818382a-1e46-4925-bac3-692c696f0e00",
   "metadata": {
    "tags": []
   },
   "outputs": [
    {
     "data": {
      "text/plain": [
       "1"
      ]
     },
     "execution_count": 52,
     "metadata": {},
     "output_type": "execute_result"
    }
   ],
   "source": [
    "a.min()     # минимальный элемент в массиве a"
   ]
  },
  {
   "cell_type": "code",
   "execution_count": 53,
   "id": "a8e320f3-2e63-4d52-9345-5cb861609e6e",
   "metadata": {
    "tags": []
   },
   "outputs": [
    {
     "data": {
      "text/plain": [
       "1.5"
      ]
     },
     "execution_count": 53,
     "metadata": {},
     "output_type": "execute_result"
    }
   ],
   "source": [
    "a.mean()    # среднее значение в массиве a"
   ]
  },
  {
   "cell_type": "code",
   "execution_count": 54,
   "id": "053921e2-68f1-4c57-9817-477b47e204e2",
   "metadata": {
    "tags": []
   },
   "outputs": [
    {
     "data": {
      "text/plain": [
       "1.5"
      ]
     },
     "execution_count": 54,
     "metadata": {},
     "output_type": "execute_result"
    }
   ],
   "source": [
    "np.median(a)  # медианное значение в массиве a"
   ]
  },
  {
   "cell_type": "code",
   "execution_count": 55,
   "id": "21fc6c90-413e-4e2c-b7a0-bb2497b81173",
   "metadata": {
    "tags": []
   },
   "outputs": [
    {
     "data": {
      "text/plain": [
       "0.5"
      ]
     },
     "execution_count": 55,
     "metadata": {},
     "output_type": "execute_result"
    }
   ],
   "source": [
    "a.std()     # стандартное отклонение массива a"
   ]
  },
  {
   "cell_type": "code",
   "execution_count": 56,
   "id": "45e39cf3-8395-467b-a567-da6f7d3c4e48",
   "metadata": {
    "tags": []
   },
   "outputs": [
    {
     "data": {
      "text/plain": [
       "0.25"
      ]
     },
     "execution_count": 56,
     "metadata": {},
     "output_type": "execute_result"
    }
   ],
   "source": [
    "a.var()     # дисперсия массива a"
   ]
  },
  {
   "attachments": {},
   "cell_type": "markdown",
   "id": "5687bf06-340f-47cb-83a4-9d96f0c4973c",
   "metadata": {},
   "source": [
    "## Другие функции NumPy"
   ]
  },
  {
   "cell_type": "code",
   "execution_count": 60,
   "id": "1b669583-2052-44da-b366-4eed852e7d70",
   "metadata": {},
   "outputs": [
    {
     "data": {
      "text/plain": [
       "array([0.73747776, 0.55419576, 0.32908578])"
      ]
     },
     "execution_count": 60,
     "metadata": {},
     "output_type": "execute_result"
    }
   ],
   "source": [
    "a = np.random.rand(3)                           # случайное число от 0 до 1 в виде одномерного массива\n",
    "a"
   ]
  },
  {
   "cell_type": "code",
   "execution_count": 59,
   "id": "981ac37b-c8a4-415d-9c64-1eae8fb1b6b0",
   "metadata": {
    "tags": []
   },
   "outputs": [
    {
     "data": {
      "text/plain": [
       "array([[[0.87794915, 0.66271414, 0.69949802, 0.14923839],\n",
       "        [0.67220679, 0.83182765, 0.40960317, 0.89561644],\n",
       "        [0.53082543, 0.15508662, 0.09953168, 0.512759  ]],\n",
       "\n",
       "       [[0.10487488, 0.44068853, 0.33365966, 0.77383551],\n",
       "        [0.31125701, 0.02382445, 0.80347967, 0.81495103],\n",
       "        [0.67842973, 0.41537083, 0.77419517, 0.47751701]],\n",
       "\n",
       "       [[0.31228921, 0.95575299, 0.1402084 , 0.82027681],\n",
       "        [0.47920581, 0.03457382, 0.46823399, 0.89329004],\n",
       "        [0.86996412, 0.64512681, 0.98346767, 0.7424964 ]]])"
      ]
     },
     "execution_count": 59,
     "metadata": {},
     "output_type": "execute_result"
    }
   ],
   "source": [
    "np.random.rand(3, 3, 4)                        # случайные числа от 0 до 1 в виде двумерного массива размером 3 на 4"
   ]
  },
  {
   "cell_type": "code",
   "execution_count": 63,
   "id": "09d2abd4-e688-45ed-b290-ce668c9817cb",
   "metadata": {
    "tags": []
   },
   "outputs": [
    {
     "data": {
      "text/plain": [
       "array([[3, 1, 6],\n",
       "       [5, 1, 7],\n",
       "       [8, 6, 6],\n",
       "       [6, 5, 6],\n",
       "       [6, 8, 2]])"
      ]
     },
     "execution_count": 63,
     "metadata": {},
     "output_type": "execute_result"
    }
   ],
   "source": [
    "np.random.randint(1, 10, size=(5,3))            # случайные целые числа от 1 до 10 в виде одномерного массива размером 5 "
   ]
  },
  {
   "cell_type": "code",
   "execution_count": 64,
   "id": "395aec7f-5661-41cb-ba26-d182ad35d933",
   "metadata": {
    "tags": []
   },
   "outputs": [
    {
     "data": {
      "text/plain": [
       "array([0.32908578, 0.55419576, 0.73747776])"
      ]
     },
     "execution_count": 64,
     "metadata": {},
     "output_type": "execute_result"
    }
   ],
   "source": [
    "np.random.choice(a, size=3, replace=False)  # случайный выбор 3 уникальных элементов из массива a "
   ]
  },
  {
   "cell_type": "code",
   "execution_count": 81,
   "id": "300a7a92-1f20-4593-85b4-d0af83f705cc",
   "metadata": {
    "tags": []
   },
   "outputs": [
    {
     "data": {
      "text/plain": [
       "array([[-0.66666667, -1.33333333,  1.        ],\n",
       "       [-0.66666667,  3.66666667, -2.        ],\n",
       "       [ 1.        , -2.        ,  1.        ]])"
      ]
     },
     "execution_count": 81,
     "metadata": {},
     "output_type": "execute_result"
    }
   ],
   "source": [
    "b = np.array([[1, 2, 3], [4, 5, 6], [7, 8, 10]])\n",
    "\n",
    "np.linalg.inv(b)                            # обратная матрица a (для квадратных матриц) "
   ]
  },
  {
   "cell_type": "code",
   "execution_count": 82,
   "id": "908f2607-05ab-4f99-9e42-1f1f9c030a00",
   "metadata": {
    "tags": []
   },
   "outputs": [
    {
     "data": {
      "text/plain": [
       "array([5.25786126, 6.87862056, 8.82846564])"
      ]
     },
     "execution_count": 82,
     "metadata": {},
     "output_type": "execute_result"
    }
   ],
   "source": [
    "np.dot(a, b)                                # матричное умножение матриц a и b (для двумерных массивов) \n",
    "a @ b                                       # можно записать короче"
   ]
  },
  {
   "cell_type": "code",
   "execution_count": 83,
   "id": "10a991a3-0cb8-4fff-834b-7be157aa618f",
   "metadata": {
    "tags": []
   },
   "outputs": [
    {
     "data": {
      "text/plain": [
       "(array([1, 0, 0, 0, 0, 1, 0, 0, 0, 1], dtype=int64),\n",
       " array([0.32908578, 0.36992498, 0.41076418, 0.45160337, 0.49244257,\n",
       "        0.53328177, 0.57412097, 0.61496017, 0.65579937, 0.69663856,\n",
       "        0.73747776]))"
      ]
     },
     "execution_count": 83,
     "metadata": {},
     "output_type": "execute_result"
    }
   ],
   "source": [
    "np.histogram(a)                             # вычисление гистограммы массива a "
   ]
  },
  {
   "cell_type": "code",
   "execution_count": 84,
   "id": "d76e6c59-e863-4b93-9e41-13f792d65717",
   "metadata": {
    "tags": []
   },
   "outputs": [
    {
     "data": {
      "text/plain": [
       "array([[ 1.        , -0.99825622, -0.99825622, -0.99142373],\n",
       "       [-0.99825622,  1.        ,  1.        ,  0.98198051],\n",
       "       [-0.99825622,  1.        ,  1.        ,  0.98198051],\n",
       "       [-0.99142373,  0.98198051,  0.98198051,  1.        ]])"
      ]
     },
     "execution_count": 84,
     "metadata": {},
     "output_type": "execute_result"
    }
   ],
   "source": [
    "np.corrcoef(a, b)                           # вычисление коэффициента корреляции между векторами a и b"
   ]
  },
  {
   "cell_type": "code",
   "execution_count": 85,
   "id": "580b4815-596b-4ac1-9ee5-dba31fe520cb",
   "metadata": {
    "tags": []
   },
   "outputs": [
    {
     "data": {
      "text/plain": [
       "array([[ 1,  4,  7],\n",
       "       [ 2,  5,  8],\n",
       "       [ 3,  6, 10]])"
      ]
     },
     "execution_count": 85,
     "metadata": {},
     "output_type": "execute_result"
    }
   ],
   "source": [
    "b.transpose()                               # создание транспонированной матрицы\n",
    "b.T"
   ]
  },
  {
   "cell_type": "code",
   "execution_count": 87,
   "id": "d220c9e7-832f-466c-b45f-7bc0d8f54fbf",
   "metadata": {
    "tags": []
   },
   "outputs": [
    {
     "data": {
      "text/plain": [
       "array([ 1,  2,  3,  4,  5,  6,  7,  8, 10])"
      ]
     },
     "execution_count": 87,
     "metadata": {},
     "output_type": "execute_result"
    }
   ],
   "source": [
    "b.flatten()                                # создание 1d матрицы из многомерной (сплющить)"
   ]
  },
  {
   "attachments": {},
   "cell_type": "markdown",
   "id": "7826f92e-1cd0-4026-abf2-8815d2656d6d",
   "metadata": {},
   "source": [
    "## Broadcasting (транслирование)"
   ]
  },
  {
   "cell_type": "code",
   "execution_count": 98,
   "id": "f5cc68c3-e05d-4cb9-aa53-1a89a0957da4",
   "metadata": {
    "tags": []
   },
   "outputs": [],
   "source": [
    "a = np.array([1,2,3,1,5,9])\n",
    "b = np.array([5])"
   ]
  },
  {
   "cell_type": "code",
   "execution_count": 99,
   "id": "61e29643-480a-4a5a-b448-66741842631c",
   "metadata": {
    "tags": []
   },
   "outputs": [
    {
     "data": {
      "text/plain": [
       "array([ 5, 10, 15,  5, 25, 45])"
      ]
     },
     "execution_count": 99,
     "metadata": {},
     "output_type": "execute_result"
    }
   ],
   "source": [
    "a * b"
   ]
  },
  {
   "cell_type": "code",
   "execution_count": 100,
   "id": "4fd14aaa-84bf-4737-ab43-d2a5c5d0e021",
   "metadata": {
    "tags": []
   },
   "outputs": [
    {
     "data": {
      "text/plain": [
       "array([ 6,  7,  8,  6, 10, 14])"
      ]
     },
     "execution_count": 100,
     "metadata": {},
     "output_type": "execute_result"
    }
   ],
   "source": [
    "a + b"
   ]
  },
  {
   "cell_type": "code",
   "execution_count": 101,
   "id": "90ad0630-f40e-4412-a224-c7ab86cc9f42",
   "metadata": {
    "tags": []
   },
   "outputs": [
    {
     "ename": "ValueError",
     "evalue": "operands could not be broadcast together with shapes (6,) (2,) ",
     "output_type": "error",
     "traceback": [
      "\u001b[1;31m---------------------------------------------------------------------------\u001b[0m",
      "\u001b[1;31mValueError\u001b[0m                                Traceback (most recent call last)",
      "Cell \u001b[1;32mIn[101], line 2\u001b[0m\n\u001b[0;32m      1\u001b[0m b \u001b[39m=\u001b[39m np\u001b[39m.\u001b[39marray([\u001b[39m2\u001b[39m, \u001b[39m3\u001b[39m])\n\u001b[1;32m----> 2\u001b[0m a \u001b[39m*\u001b[39;49m b\n",
      "\u001b[1;31mValueError\u001b[0m: operands could not be broadcast together with shapes (6,) (2,) "
     ]
    }
   ],
   "source": [
    "b = np.array([2, 3])\n",
    "a * b"
   ]
  },
  {
   "attachments": {},
   "cell_type": "markdown",
   "id": "0f3f869b-597a-45b3-a636-11faaa46fe46",
   "metadata": {},
   "source": [
    "1. Если массивы разных размерностей, то к меньшему добавляются новые, чтобы размерности совпали\n",
    "2. Оси с одним элементом расширяются так, чтобы их размерности совпали"
   ]
  },
  {
   "cell_type": "code",
   "execution_count": 102,
   "id": "0bc57e63-8506-47e7-afaf-0e71414b8a16",
   "metadata": {
    "tags": []
   },
   "outputs": [
    {
     "data": {
      "text/plain": [
       "1"
      ]
     },
     "execution_count": 102,
     "metadata": {},
     "output_type": "execute_result"
    }
   ],
   "source": [
    "a.ndim"
   ]
  },
  {
   "cell_type": "code",
   "execution_count": 103,
   "id": "9b93a6df-37ae-4f6c-8c6c-214b02ab5954",
   "metadata": {
    "tags": []
   },
   "outputs": [
    {
     "data": {
      "text/plain": [
       "1"
      ]
     },
     "execution_count": 103,
     "metadata": {},
     "output_type": "execute_result"
    }
   ],
   "source": [
    "b.ndim"
   ]
  },
  {
   "attachments": {},
   "cell_type": "markdown",
   "id": "aa80fc47-f0ab-4ea4-8eb3-788d9adce212",
   "metadata": {},
   "source": [
    "Из старого `b` массив превращается в `[5, 5, 5, 5, 5, 5]` - это и есть транслирование массивов"
   ]
  },
  {
   "cell_type": "code",
   "execution_count": 97,
   "id": "1e930216-e84f-4ce2-a640-0d5494c5236a",
   "metadata": {
    "tags": []
   },
   "outputs": [
    {
     "data": {
      "text/plain": [
       "array([[ 2,  4,  6],\n",
       "       [ 5,  7,  9],\n",
       "       [ 8, 10, 12]])"
      ]
     },
     "execution_count": 97,
     "metadata": {},
     "output_type": "execute_result"
    }
   ],
   "source": [
    "a = np.array([\n",
    "    [1, 2, 3],\n",
    "    [4, 5, 6],\n",
    "    [7, 8, 9]\n",
    "])\n",
    "\n",
    "b = np.array([[1, 2, 3]])\n",
    "\n",
    "a + b"
   ]
  },
  {
   "attachments": {},
   "cell_type": "markdown",
   "id": "cde7b55b-c222-492b-80cd-2255b7f9c86e",
   "metadata": {},
   "source": [
    "## Ссылка на документацию Numpy\n",
    "\n",
    "https://numpy.org/doc/stable/"
   ]
  },
  {
   "cell_type": "code",
   "execution_count": null,
   "id": "3fd6b6e8-0dc2-4fc3-80e3-29e83b601d06",
   "metadata": {},
   "outputs": [],
   "source": []
  }
 ],
 "metadata": {
  "kernelspec": {
   "display_name": "Python 3 (ipykernel)",
   "language": "python",
   "name": "python3"
  },
  "language_info": {
   "codemirror_mode": {
    "name": "ipython",
    "version": 3
   },
   "file_extension": ".py",
   "mimetype": "text/x-python",
   "name": "python",
   "nbconvert_exporter": "python",
   "pygments_lexer": "ipython3",
   "version": "3.9.13"
  }
 },
 "nbformat": 4,
 "nbformat_minor": 5
}
